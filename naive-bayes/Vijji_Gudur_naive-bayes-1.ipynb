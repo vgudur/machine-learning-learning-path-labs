{
  "nbformat": 4,
  "nbformat_minor": 0,
  "metadata": {
    "kernelspec": {
      "display_name": "Python 3",
      "language": "python",
      "name": "python3"
    },
    "language_info": {
      "codemirror_mode": {
        "name": "ipython",
        "version": 3
      },
      "file_extension": ".py",
      "mimetype": "text/x-python",
      "name": "python",
      "nbconvert_exporter": "python",
      "pygments_lexer": "ipython3",
      "version": "3.8.5"
    },
    "colab": {
      "name": "naive-bayes-1-spam.ipynb",
      "provenance": [],
      "collapsed_sections": [],
      "include_colab_link": true
    }
  },
  "cells": [
    {
      "cell_type": "markdown",
      "metadata": {
        "id": "view-in-github",
        "colab_type": "text"
      },
      "source": [
        "<a href=\"https://colab.research.google.com/gist/vgudur/a34b022ac6c57e68eb8927c49e92b87b/naive-bayes-1-spam.ipynb\" target=\"_parent\"><img src=\"https://colab.research.google.com/assets/colab-badge.svg\" alt=\"Open In Colab\"/></a>"
      ]
    },
    {
      "cell_type": "markdown",
      "metadata": {
        "id": "or6KGX0nowrg"
      },
      "source": [
        "#Naive Bayes\n",
        "\n",
        "<p><a href=\"/guided-machine-learning/\">Back to Index</a></p>\n"
      ]
    },
    {
      "cell_type": "markdown",
      "metadata": {
        "id": "j5rDnKL-ps4U"
      },
      "source": [
        "#Introuduction\n",
        "\n",
        "\n",
        "    ###Essentials Reading\n",
        "\n",
        "<h3 id=\"understanding-classifications\">Understanding Classifications</h3>\n",
        "\n",
        "<p><a href=\"https://elephantscale.github.io/guided-machine-learning/classifications/classifications.html\">Read the basics of classifications</a></p>\n",
        "\n",
        "<h3 id=\"basics-of-naive-bayes\">Basics of Naive Bayes</h3>\n",
        "\n",
        "<ul>\n",
        "  <li><a href=\"https://www.youtube.com/watch?v=sjUDlJfdnKM\">Naive Bayes explained</a> - video</li>\n",
        "  <li><a href=\"https://www.youtube.com/watch?v=O2L2Uv9pdDA\">Another Naive Bayes explanation</a> - video</li>\n",
        "  <li><a href=\"https://www.geeksforgeeks.org/naive-bayes-classifiers/\">Naive Bayes intro</a></li>\n",
        "</ul>\n",
        "\n",
        "<h3 id=\"implementing-naive-bayes-in-scikit-learn\">Implementing Naive Bayes in Scikit-Learn</h3>\n",
        "\n",
        "<ul>\n",
        "  <li><a href=\"https://www.datacamp.com/community/tutorials/naive-bayes-scikit-learn\">Naive Bayes Classification using Scikit-learn</a></li>\n",
        "  <li><a href=\"https://scikit-learn.org/stable/modules/naive_bayes.html\">Naive Bayes algorithm in Scikit</a></li>\n",
        "</ul>\n",
        "\n",
        "<h2 id=\"extra-reading\">Extra Reading</h2>\n",
        "\n",
        "<h2 id=\"checklist\">Checklist</h2>\n",
        "\n",
        "<p>Check your knowledge:</p>\n",
        "\n",
        "<ul>\n",
        "  <li>What data NB works best with?</li>\n",
        "  <li>What are the 3 types of NB?</li>\n",
        "  <li>\n",
        "    <table>\n",
        "      <tbody>\n",
        "        <tr>\n",
        "          <td>Calculate the probability of Queen card, given I got a face card from a 52 deck of cards   -  P (queen</td>\n",
        "          <td>face)</td>\n",
        "        </tr>\n",
        "      </tbody>\n",
        "    </table>\n",
        "    <ul>\n",
        "      <li>First calculate the probability of getting a face card</li>\n",
        "      <li>calculate the probability of getting a queen card</li>\n",
        "      <li>\n",
        "        <table>\n",
        "          <tbody>\n",
        "            <tr>\n",
        "              <td>Now calculate the P(queen</td>\n",
        "              <td>face)</td>\n",
        "            </tr>\n",
        "          </tbody>\n",
        "        </table>\n",
        "      </li>\n",
        "    </ul>\n",
        "  </li>\n",
        "</ul>"
      ]
    },
    {
      "cell_type": "code",
      "metadata": {
        "id": "pc58XJsKsYPY"
      },
      "source": [
        "import numpy as np\n",
        "import pandas as pd\n",
        "import matplotlib.pyplot as plt\n",
        "import seaborn as sns\n",
        "import warnings\n",
        "warnings.filterwarnings('ignore')\n",
        "from scipy import stats\n",
        "from scipy.stats import norm\n",
        "from sklearn.preprocessing import LabelEncoder, OneHotEncoder\n",
        "from sklearn.model_selection import train_test_split\n",
        "from sklearn.datasets import make_classification\n",
        "from sklearn.preprocessing import StandardScaler\n",
        "from sklearn.metrics import classification_report, confusion_matrix\n",
        "\n",
        "sns.set()\n",
        "pd.set_option('display.float_format', lambda x: '%.5f' % x)\n",
        "\n",
        "plt.style.use(style='ggplot')\n",
        "plt.rcParams['figure.figsize'] = (10, 6)\n",
        "from scipy.stats import norm"
      ],
      "execution_count": 1,
      "outputs": []
    },
    {
      "cell_type": "markdown",
      "metadata": {
        "id": "Vb4HCVLg1CiM"
      },
      "source": [
        "## Helper functions"
      ]
    },
    {
      "cell_type": "code",
      "metadata": {
        "id": "BCNChRHgH6MB"
      },
      "source": [
        "from IPython.core.display import display, HTML\n",
        "\n",
        "\n",
        "def large_print(data, size=140):\n",
        "    display( HTML('<span style=\"font-size:'+ str(size * 2) +'%; line-height:'+str(size)+'%\"><p><p>' + data + '</p></p></span>'))"
      ],
      "execution_count": 98,
      "outputs": []
    },
    {
      "cell_type": "markdown",
      "metadata": {
        "id": "WwRS7dOG-Dr2"
      },
      "source": [
        "##### Encoding"
      ]
    },
    {
      "cell_type": "code",
      "metadata": {
        "id": "lNzCnB7S-IF4"
      },
      "source": [
        "## Encoding helper functions\n",
        "def using_cat_encoding(dset, lstvariable):\n",
        "  # fisrt convert the column to category type\n",
        "  for variable in lstvariable:\n",
        "    var_new_col = variable + '_category_type'\n",
        "    var_col_encode = variable + '_encode_val'\n",
        "    dset[var_new_col] =  dset[variable].astype('category')\n",
        "    dset[var_col_encode] = dset[var_new_col].cat.codes\n",
        "    dset.drop(columns=[var_new_col] , inplace=True)\n",
        "  return dset\n",
        "\n",
        "def using_index_encoding(dset, variable):\n",
        "  gle = LabelEncoder()\n",
        "  var_col_encode = variable + '_encode_val'\n",
        "  dset[var_col_encode] = gle.fit_transform(dset[variable])\n",
        "  return dset\n",
        "\n",
        "def using_onehot_encoding (dset , lstvariable):\n",
        "  return pd.get_dummies(dset, columns=lstvariable, prefix=lstvariable)"
      ],
      "execution_count": 20,
      "outputs": []
    },
    {
      "cell_type": "markdown",
      "metadata": {
        "id": "b5NvOKrPBLLo"
      },
      "source": [
        "##### Classifier Algorithms"
      ]
    },
    {
      "cell_type": "code",
      "metadata": {
        "id": "NKAPf77yGiYY"
      },
      "source": [
        "def  Run_Classification ( x_tr, y_tr, x_tst, y_tst, feature_cols, usescaling=False, show_roc=False, modeltype='mnb'):\n",
        "\n",
        "  from sklearn.linear_model import LogisticRegression\n",
        "  from sklearn import svm\n",
        "  from sklearn.ensemble import RandomForestClassifier\n",
        "  from sklearn.neural_network import MLPClassifier\n",
        "  from sklearn.naive_bayes import GaussianNB\n",
        "  from sklearn.calibration import calibration_curve\n",
        "  from sklearn.naive_bayes import MultinomialNB\n",
        "\n",
        "  # Create a Logistic Regression Object, perform Logistic Regression\n",
        "  x_tr = pd.DataFrame(x_tr)\n",
        "  y_tr = pd.DataFrame(y_tr)\n",
        "  x_tst = pd.DataFrame(x_tst)\n",
        "  y_tst = pd.DataFrame(y_tst)\n",
        "  \n",
        "  # Scale the data\n",
        "  if (usescaling == True ):\n",
        "    x_tr = ZScore_Standarization_Scaling(x_tr)\n",
        "    x_tst = ZScore_Standarization_Scaling(x_tst)\n",
        "\n",
        "  print ( \"Running Classifications \")\n",
        "  if (modeltype == 'Logistic'):\n",
        "    ## Logistic Regression Model\n",
        "    model = LogisticRegression(random_state=0, solver='lbfgs', multi_class='multinomial').fit(x_tr, y_tr)\n",
        "\n",
        "  if (modeltype == 'svm'):\n",
        "    ## Support Vector Machine Model\n",
        "    model = svm.SVC(decision_function_shape=\"ovo\").fit(x_tr, y_tr)\n",
        "\n",
        "  if (modeltype == 'rf'):\n",
        "    ##Random Forest Model\n",
        "    model = RandomForestClassifier(n_estimators=1000, max_depth=10, random_state=0).fit(x_tr, y_tr)\n",
        "\n",
        "  if (modeltype == 'nn'):\n",
        "    ##Neural Network Model\n",
        "    model = MLPClassifier(solver='lbfgs', alpha=1e-5, hidden_layer_sizes=(150, 10), random_state=1).fit(x_tr, y_tr)\n",
        "  \n",
        "  if (modeltype == 'nb'):\n",
        "    ## Gaussian Naive Bayes\n",
        "    model = GaussianNB().fit(x_tr, y_tr)\n",
        "      \n",
        "  if (modeltype == 'mnb'):\n",
        "    ## Multinominal Naive Bayes\n",
        "    model = MultinomialNB().fit(x_tr, y_tr)\n",
        "\n",
        "  tr_score = model.score(x_tr, y_tr)   \n",
        "  tst_score =   model.score(x_tst, y_tst)\n",
        "  y_pred = model.predict(x_tst)\n",
        "  large_print ( \"{0}  Model Accuracy for training  :{1}  ,  Testing :{2}\".format( modeltype, tr_score ,   tst_score   ))\n",
        "\n",
        "\n",
        "  large_print('=============show confusion matrix values=============', 60)\n",
        "  # Show the Confusion Matrix\n",
        "  cnf_matrix  = confusion_matrix(y_tst, y_pred)\n",
        "  print ('\\n\\t\\t \\n',cnf_matrix )\n",
        "\n",
        "\n",
        "  large_print('=============Visualize confusion Matrix=============', 60)\n",
        "  #Visualize confusion Matrix  \n",
        "  fig, ax1 = plt.subplots(figsize=(10,5))\n",
        "  tick_marks = np.arange(len(feature_cols))\n",
        "  plt.xticks(tick_marks, feature_cols)\n",
        "  plt.yticks(tick_marks, feature_cols)\n",
        "  # create heatmap\n",
        "  sns.heatmap(pd.DataFrame(cnf_matrix ), cmap=\"YlGnBu\" , annot=True,  fmt='g', ax=ax1)\n",
        "  ax1.xaxis.set_label_position(\"top\")\n",
        "  plt.title('Confusion matrix', y=1.1)\n",
        "  plt.ylabel('Actual label')\n",
        "  plt.xlabel('Predicted label')\n",
        "  plt.show()\n",
        "\n",
        "\n",
        "  '''\n",
        "  large_print('=============Confusion Matrix Evaluation Metrics=============', 70)\n",
        "  ## Confusion Matrix Evaluation Metrics \n",
        "  from sklearn import metrics\n",
        "\n",
        "  print(\"\\n\\t\\t Accuracy:\",metrics.accuracy_score(y_tst, y_pred))\n",
        "  print(\"\\n\\t\\t Precision:\",metrics.precision_score(y_tst, y_pred))\n",
        "  print(\"\\n\\t\\t Recall:\",metrics.recall_score(y_tst, y_pred))\n",
        "  '''\n",
        "  \n",
        "  large_print('=============Classification report=============\\n', 70)\n",
        "  print(classification_report(y_tst, y_pred))\n",
        "\n",
        "  if ( show_roc== True):\n",
        "    ## Show ROC Curve \n",
        "    print ( \"Show ROC Curve\")\n",
        "    y_pred_proba = log_reg.predict_proba(x_tst)[::,1]\n",
        "    fpr, tpr, _ = metrics.roc_curve(y_tst,  y_pred_proba)\n",
        "    auc = metrics.roc_auc_score(y_tst, y_pred_proba)\n",
        "    plt.plot(fpr,tpr,label=\"data 1, auc=\"+str(auc))\n",
        "    plt.legend(loc=4)\n",
        "    plt.show()\n",
        "\n",
        "    ## find accuracy\n",
        "    print ('\\n\\t\\t AUC Score  between 0.5 - 1 is perfect classifier. Accuracy of the mdoel is',   ) \n",
        "    ## AUC score 1 represents perfect classifier, and 0.5 represents a worthless classifier."
      ],
      "execution_count": 99,
      "outputs": []
    },
    {
      "cell_type": "code",
      "metadata": {
        "id": "EdYpMUMc1B5F"
      },
      "source": [
        "def  Run_Plot_Classification ( X_train, y_train, X_test, y_test ):\n",
        "  import numpy as np\n",
        "  np.random.seed(0)\n",
        "\n",
        "  import matplotlib.pyplot as plt\n",
        "\n",
        "  from sklearn import datasets\n",
        "  from sklearn.naive_bayes import GaussianNB\n",
        "  from sklearn.linear_model import LogisticRegression\n",
        "  from sklearn.ensemble import RandomForestClassifier\n",
        "  from sklearn.svm import LinearSVC\n",
        "  from sklearn.calibration import calibration_curve\n",
        "  from sklearn.naive_bayes import MultinomialNB\n",
        "\n",
        "\n",
        "  X, y = datasets.make_classification(n_samples=100000, n_features=20,\n",
        "                                      n_informative=2, n_redundant=2)\n",
        "\n",
        "  train_samples = 100  # Samples used for training the models\n",
        "\n",
        "  X_train = pd.DataFrame(X_train)\n",
        "  y_train = pd.DataFrame(y_train)\n",
        "  X_test = pd.DataFrame(X_test)\n",
        "  y_test = pd.DataFrame(y_test)\n",
        "\n",
        "  # Create classifiers\n",
        "  lr = LogisticRegression()\n",
        "  gnb = GaussianNB()\n",
        "  svc = LinearSVC(C=1.0)\n",
        "  rfc = RandomForestClassifier()\n",
        "  nb = MultinomialNB ()\n",
        "\n",
        "\n",
        "  # #############################################################################\n",
        "  # Plot calibration plots\n",
        "\n",
        "  plt.figure(figsize=(10, 10))\n",
        "  ax1 = plt.subplot2grid((3, 1), (0, 0), rowspan=2)\n",
        "  ax2 = plt.subplot2grid((3, 1), (2, 0))\n",
        "\n",
        "  ax1.plot([0, 1], [0, 1], \"k:\", label=\"Perfectly calibrated\")\n",
        "  for clf, name in [(lr, 'Logistic'),\n",
        "                    (gnb, 'Naive Bayes'),\n",
        "                    (svc, 'Support Vector Classification'),\n",
        "                    (rfc, 'Random Forest'),\n",
        "                    (nb, 'Multinomial NB')\n",
        "                    ]:\n",
        "      clf.fit(X_train, y_train)\n",
        "      if hasattr(clf, \"predict_proba\"):\n",
        "          prob_pos = clf.predict_proba(X_test)[:, 1]\n",
        "      else:  # use decision function\n",
        "          prob_pos = clf.decision_function(X_test)\n",
        "          prob_pos = \\\n",
        "              (prob_pos - prob_pos.min()) / (prob_pos.max() - prob_pos.min())\n",
        "      fraction_of_positives, mean_predicted_value = \\\n",
        "          calibration_curve(y_test, prob_pos, n_bins=10)\n",
        "\n",
        "      ax1.plot(mean_predicted_value, fraction_of_positives, \"s-\",\n",
        "              label=\"%s\" % (name, ))\n",
        "\n",
        "      ax2.hist(prob_pos, range=(0, 1), bins=10, label=name,\n",
        "              histtype=\"step\", lw=2)\n",
        "\n",
        "  ax1.set_ylabel(\"Fraction of positives\")\n",
        "  ax1.set_ylim([-0.05, 1.05])\n",
        "  ax1.legend(loc=\"lower right\")\n",
        "  ax1.set_title('Calibration plots  (reliability curve)')\n",
        "\n",
        "  ax2.set_xlabel(\"Mean predicted value\")\n",
        "  ax2.set_ylabel(\"Count\")\n",
        "  ax2.legend(loc=\"upper center\", ncol=2)\n",
        "\n",
        "  plt.tight_layout()\n",
        "  plt.show()"
      ],
      "execution_count": 92,
      "outputs": []
    },
    {
      "cell_type": "markdown",
      "metadata": {
        "id": "uIsTifzGph7s"
      },
      "source": [
        "#EX-1: Practice with synthetic data\n",
        "\n",
        "<p>Use Scikit’s  <a href=\"https://scikit-learn.org/stable/modules/generated/sklearn.datasets.make_blobs.html#sklearn.datasets.make_blobs\">make_blobs</a> or <a href=\"https://scikit-learn.org/stable/modules/generated/sklearn.datasets.make_classification.html#sklearn.datasets.make_classification\">make_classification</a> to generate some sample data.</p>\n",
        "\n",
        "<p>Try to separate them using NB</p>"
      ]
    },
    {
      "cell_type": "code",
      "metadata": {
        "id": "hRziVecKsQSz",
        "outputId": "6c862350-3a83-4d1f-a6c5-d4fe6897da56",
        "colab": {
          "base_uri": "https://localhost:8080/",
          "height": 339
        }
      },
      "source": [
        "from sklearn.datasets import make_classification\n",
        "# Generate Clean data\n",
        "X,y = make_classification(n_samples=10000, n_features=2, n_informative=2,n_redundant=0, n_repeated=0, n_classes=2, n_clusters_per_class=1,class_sep=2,flip_y=0,weights=[0.5,0.5], random_state=17)\n",
        "f, (ax1,ax2) = plt.subplots(nrows=1, ncols=2,figsize=(10,5))\n",
        "sns.scatterplot(X[:,0],X[:,1],hue=y,ax=ax1)\n",
        "ax1.set_title(\"No Noise\")\n",
        "X_train , y_train = X, y\n",
        "# Generate noisy Data\n",
        "X,y = make_classification(n_samples=10000, n_features=2, n_informative=2, n_redundant=0, n_repeated=0, n_classes=2, n_clusters_per_class=1,class_sep=2,flip_y=0.2,weights=[0.5,0.5], random_state=17)\n",
        "sns.scatterplot(X[:,0],X[:,1],hue=y,ax=ax2)\n",
        "ax2.set_title(\"With Noise\")\n",
        "plt.show()\n",
        "\n",
        "X_test , y_test = X, y"
      ],
      "execution_count": 100,
      "outputs": [
        {
          "output_type": "display_data",
          "data": {
            "image/png": "[encoded data removed]",
            "text/plain": [
              "<Figure size 720x360 with 2 Axes>"
            ]
          },
          "metadata": {
            "tags": [],
            "needs_background": "light"
          }
        }
      ]
    },
    {
      "cell_type": "code",
      "metadata": {
        "id": "GUkj_d381qW0",
        "outputId": "084bd7e4-f1aa-49fe-9cef-cdd746882f58",
        "colab": {
          "base_uri": "https://localhost:8080/",
          "height": 737
        }
      },
      "source": [
        "Run_Classification(x_set1 , y_set1 , x_set2 , y_set2 , feature_cols= [0,1] , modeltype='nb' )"
      ],
      "execution_count": 101,
      "outputs": [
        {
          "output_type": "stream",
          "text": [
            "Running Classifications \n"
          ],
          "name": "stdout"
        },
        {
          "output_type": "display_data",
          "data": {
            "text/html": [
              "<span style=\"font-size:280%; line-height:140%\"><p><p>nb  Model Accuracy for training  :0.992  ,  Testing :0.8894</p></p></span>"
            ],
            "text/plain": [
              "<IPython.core.display.HTML object>"
            ]
          },
          "metadata": {
            "tags": []
          }
        },
        {
          "output_type": "display_data",
          "data": {
            "text/html": [
              "<span style=\"font-size:120%; line-height:60%\"><p><p>=============show confusion matrix values=============</p></p></span>"
            ],
            "text/plain": [
              "<IPython.core.display.HTML object>"
            ]
          },
          "metadata": {
            "tags": []
          }
        },
        {
          "output_type": "stream",
          "text": [
            "\n",
            "\t\t \n",
            " [[4395  581]\n",
            " [ 525 4499]]\n"
          ],
          "name": "stdout"
        },
        {
          "output_type": "display_data",
          "data": {
            "text/html": [
              "<span style=\"font-size:120%; line-height:60%\"><p><p>=============Visualize confusion Matrix=============</p></p></span>"
            ],
            "text/plain": [
              "<IPython.core.display.HTML object>"
            ]
          },
          "metadata": {
            "tags": []
          }
        },
        {
          "output_type": "display_data",
          "data": {
            "image/png": "[encoded data removed]",
            "text/plain": [
              "<Figure size 720x360 with 2 Axes>"
            ]
          },
          "metadata": {
            "tags": [],
            "needs_background": "light"
          }
        },
        {
          "output_type": "display_data",
          "data": {
            "text/html": [
              "<span style=\"font-size:140%; line-height:70%\"><p><p>=============Classification report=============\n",
              "</p></p></span>"
            ],
            "text/plain": [
              "<IPython.core.display.HTML object>"
            ]
          },
          "metadata": {
            "tags": []
          }
        },
        {
          "output_type": "stream",
          "text": [
            "              precision    recall  f1-score   support\n",
            "\n",
            "           0       0.89      0.88      0.89      4976\n",
            "           1       0.89      0.90      0.89      5024\n",
            "\n",
            "    accuracy                           0.89     10000\n",
            "   macro avg       0.89      0.89      0.89     10000\n",
            "weighted avg       0.89      0.89      0.89     10000\n",
            "\n"
          ],
          "name": "stdout"
        }
      ]
    },
    {
      "cell_type": "code",
      "metadata": {
        "id": "c4B9RYy1zNjI",
        "outputId": "1f240ad9-8fcd-4695-a767-64c98428410d",
        "colab": {
          "base_uri": "https://localhost:8080/",
          "height": 291
        }
      },
      "source": [
        "from sklearn.naive_bayes import GaussianNB\n",
        "from sklearn.ensemble import RandomForestClassifier\n",
        "from sklearn.calibration import CalibratedClassifierCV\n",
        "from sklearn.calibration import calibration_curve\n",
        "\n",
        "# Uncalibrated\n",
        "clf = GaussianNB()\n",
        "clf.fit(X_train, y_train)\n",
        "y_test_predict_proba = clf.predict_proba(X_test)[:, 1]\n",
        "fraction_of_positives, mean_predicted_value = calibration_curve(y_test, y_test_predict_proba, n_bins=10)\n",
        "\n",
        "plt.plot(mean_predicted_value, fraction_of_positives, 's-', label='Uncalibrated')\n",
        "\n",
        "# Calibrated\n",
        "clf_sigmoid = CalibratedClassifierCV(clf, cv=3, method='isotonic')\n",
        "clf_sigmoid.fit(X_train, y_train)\n",
        "y_test_predict_proba = clf_sigmoid.predict_proba(X_test)[:, 1]\n",
        "fraction_of_positives, mean_predicted_value = calibration_curve(y_test, y_test_predict_proba, n_bins=10)\n",
        "\n",
        "plt.plot(mean_predicted_value, fraction_of_positives, 's-', color='red', label='Calibrated (Isotonic)')\n",
        "\n",
        "# Calibrated, Platt\n",
        "clf_sigmoid = CalibratedClassifierCV(clf, cv=3, method='sigmoid')\n",
        "clf_sigmoid.fit(X_train, y_train)\n",
        "y_test_predict_proba = clf_sigmoid.predict_proba(X_test)[:, 1]\n",
        "fraction_of_positives, mean_predicted_value = calibration_curve(y_test, y_test_predict_proba, n_bins=10)\n",
        "plt.plot(mean_predicted_value, fraction_of_positives, 's-', color='orange', label='Calibrated (Platt)')\n",
        "\n",
        "\n",
        "plt.plot([0, 1], [0, 1], '--', color='gray')\n",
        "\n",
        "sns.despine(left=True, bottom=True)\n",
        "plt.gca().xaxis.set_ticks_position('none')\n",
        "plt.gca().yaxis.set_ticks_position('none')\n",
        "plt.gca().legend()\n",
        "plt.title(\"$GaussianNB$ Sample Calibration Curve\", fontsize=20); pass"
      ],
      "execution_count": 102,
      "outputs": [
        {
          "output_type": "display_data",
          "data": {
            "image/png": "[encoded data removed]",
            "text/plain": [
              "<Figure size 432x288 with 1 Axes>"
            ]
          },
          "metadata": {
            "tags": [],
            "needs_background": "light"
          }
        }
      ]
    },
    {
      "cell_type": "markdown",
      "metadata": {
        "id": "acNfSNJZqKT0"
      },
      "source": [
        "#EX-2: SPAM detection\n",
        "\n",
        "<ul>\n",
        "  <li>Here is <a href=\"https://elephantscale-public.s3.amazonaws.com/data/spam/SMSSpamCollection.txt\">SMS Spam dataset</a></li>\n",
        "  <li>Start with this <a href=\"https://github.com/elephantscale/guided-machine-learning-labs/blob/master/naive-bayes/naive-bayes-1-spam.ipynb\">notebook</a></li>\n",
        "  <li>Use NB to predict spam / ham</li>\n",
        "  <li>Create a confusion matrix</li>\n",
        "  <li>What is the accuracy of the model</li>\n",
        "</ul>"
      ]
    },
    {
      "cell_type": "markdown",
      "metadata": {
        "id": "uwh5DX_JhynO"
      },
      "source": [
        "#### Naive Bayes Spam Filtering\n",
        "\n",
        "    ### Overview\n",
        "\n",
        "    We all hate spam, so developing a classifier to classify email as spam or not spam is useful.  \n",
        "\n",
        "    ### Builds on\n",
        "    None\n",
        "\n",
        "    ### Run time\n",
        "    approx. 20-30 minutes\n",
        "\n",
        "    ### Notes\n",
        "\n",
        "    We can do Naive Bayes classification."
      ]
    },
    {
      "cell_type": "markdown",
      "metadata": {
        "id": "r3NMFpI2hynO"
      },
      "source": [
        "#### Step 1: Load Data\n",
        "We will load the dataframe into pandas.  Since the outcome label is \"ham\" or \"spam\", that will be our label."
      ]
    },
    {
      "cell_type": "code",
      "metadata": {
        "id": "R0m1L6YNhynP",
        "outputId": "6b61c7bc-1577-43eb-e231-161159ce290f",
        "colab": {
          "base_uri": "https://localhost:8080/",
          "height": 35
        }
      },
      "source": [
        "import os\n",
        "import urllib.request\n",
        "\n",
        "data_location = 'SMSSpamCollection.txt'\n",
        "data_url = 'https://elephantscale-public.s3.amazonaws.com/data/spam/SMSSpamCollection.txt'\n",
        "\n",
        "if not os.path.exists(data_location):\n",
        "    urllib.request.urlretrieve(data_url, data_location)\n",
        "    print (\"Downloading  \", data_url)\n",
        "print ('data_location: ', data_location)"
      ],
      "execution_count": 103,
      "outputs": [
        {
          "output_type": "stream",
          "text": [
            "data_location:  SMSSpamCollection.txt\n"
          ],
          "name": "stdout"
        }
      ]
    },
    {
      "cell_type": "code",
      "metadata": {
        "id": "K-S19ahUhynS",
        "outputId": "8c6b517c-ca45-4e2c-8388-9af2fa201d29",
        "colab": {
          "base_uri": "https://localhost:8080/",
          "height": 181
        }
      },
      "source": [
        "import pandas as pd\n",
        "\n",
        "dataset = pd.read_csv(data_location, sep='\\t')\n",
        "dataset.describe()\n",
        "dataset.info()"
      ],
      "execution_count": 104,
      "outputs": [
        {
          "output_type": "stream",
          "text": [
            "<class 'pandas.core.frame.DataFrame'>\n",
            "RangeIndex: 5572 entries, 0 to 5571\n",
            "Data columns (total 2 columns):\n",
            " #   Column  Non-Null Count  Dtype \n",
            "---  ------  --------------  ----- \n",
            " 0   isspam  5572 non-null   object\n",
            " 1   text    5572 non-null   object\n",
            "dtypes: object(2)\n",
            "memory usage: 87.2+ KB\n"
          ],
          "name": "stdout"
        }
      ]
    },
    {
      "cell_type": "markdown",
      "metadata": {
        "id": "VIihLUZ7hynV"
      },
      "source": [
        "### Step 2 - Explore Data"
      ]
    },
    {
      "cell_type": "code",
      "metadata": {
        "id": "M77-pVREhynV",
        "outputId": "bd42d2dd-a59c-46e1-869c-67b230f12fec",
        "colab": {
          "base_uri": "https://localhost:8080/",
          "height": 90
        }
      },
      "source": [
        "## TODO :  Count spam/ham\n",
        "## Hint : group by 'isspam'\n",
        "## Question : Is there a data skew?\n",
        "dataset.groupby(\"isspam\").size()"
      ],
      "execution_count": 105,
      "outputs": [
        {
          "output_type": "execute_result",
          "data": {
            "text/plain": [
              "isspam\n",
              "ham     4825\n",
              "spam     747\n",
              "dtype: int64"
            ]
          },
          "metadata": {
            "tags": []
          },
          "execution_count": 105
        }
      ]
    },
    {
      "cell_type": "markdown",
      "metadata": {
        "id": "aNfyJuVqhynY"
      },
      "source": [
        "### Step 3: Vectorize Using TF/IDF\n",
        "\n",
        "Let's use tf/idf for vecorization at first.  TF/IDF will take and count the instances of each term, and then divide by the total frequecy of that term in the entire dataset.  \n",
        "\n",
        "This leads to very highly dimensional data, because every word in the document will lead to a dimension in the data."
      ]
    },
    {
      "cell_type": "code",
      "metadata": {
        "id": "gDXpST_GhynY",
        "outputId": "072c6121-2faf-487e-de56-5f5b6f5580ec",
        "colab": {
          "base_uri": "https://localhost:8080/",
          "height": 54
        }
      },
      "source": [
        "from sklearn.pipeline import Pipeline\n",
        "from sklearn.feature_extraction.text import CountVectorizer\n",
        "from sklearn.feature_extraction.text import TfidfTransformer\n",
        "\n",
        "\n",
        "pipeline = Pipeline([('vec', CountVectorizer()),\n",
        "                     ('tfidf', TfidfTransformer())])\n",
        "\n",
        "x = pipeline.fit_transform(dataset['text'])\n",
        "x"
      ],
      "execution_count": 106,
      "outputs": [
        {
          "output_type": "execute_result",
          "data": {
            "text/plain": [
              "<5572x8713 sparse matrix of type '<class 'numpy.float64'>'\n",
              "\twith 74169 stored elements in Compressed Sparse Row format>"
            ]
          },
          "metadata": {
            "tags": []
          },
          "execution_count": 106
        }
      ]
    },
    {
      "cell_type": "code",
      "metadata": {
        "id": "ErZ7_BMJhynb",
        "outputId": "ed17403d-912c-41cb-c2e2-3a74a763c587",
        "colab": {
          "base_uri": "https://localhost:8080/",
          "height": 35
        }
      },
      "source": [
        "## we can leave y as 'spam' / 'ham'\n",
        "y = dataset['isspam']\n",
        "y\n",
        "## encode y \n",
        "# Encoding above ordinal data using OrdinalEncoder\n",
        "from sklearn.preprocessing import OrdinalEncoder\n",
        "ordinalencoder = OrdinalEncoder()\n",
        "dataset['isspam_index'] = ordinalencoder.fit_transform(dataset[['isspam']])\n",
        "dataset\n",
        "\n",
        "## TODO : encode y\n",
        "## Hint : use the 'isspam' column\n",
        "y = pd.factorize(dataset['isspam_index'])[0]\n",
        "y"
      ],
      "execution_count": 107,
      "outputs": [
        {
          "output_type": "execute_result",
          "data": {
            "text/plain": [
              "array([0, 0, 1, ..., 0, 0, 0])"
            ]
          },
          "metadata": {
            "tags": []
          },
          "execution_count": 107
        }
      ]
    },
    {
      "cell_type": "code",
      "metadata": {
        "id": "5m7VSGypFNfm"
      },
      "source": [
        " #defin features: text and predict output: isspam\n",
        " feature_labels = ['text']\n",
        " target_variable = ['isspam_index']"
      ],
      "execution_count": 108,
      "outputs": []
    },
    {
      "cell_type": "code",
      "metadata": {
        "id": "ZXsiS5pXJg9X",
        "outputId": "4751e016-1c53-434e-fb08-2daee13d2237",
        "colab": {
          "base_uri": "https://localhost:8080/",
          "height": 108
        }
      },
      "source": [
        "#Transform the data set into a X, y data frame \n",
        "df_x = pd.DataFrame(dataset, columns = feature_labels ) \n",
        "df_y = pd.DataFrame(dataset.isspam_index)\n",
        "\n",
        "print( \"Size of \\nX: {}  \\nY :{}\".format(  df_x.shape ,  df_y.shape  )  )\n",
        "print( \"variables :{}  \\nTarget :{}\".format(  feature_labels ,  target_variable )  )"
      ],
      "execution_count": 120,
      "outputs": [
        {
          "output_type": "stream",
          "text": [
            "Size of \n",
            "X: (5572, 1)  \n",
            "Y :(5572, 1)\n",
            "variables :['text']  \n",
            "Target :['isspam_index']\n"
          ],
          "name": "stdout"
        }
      ]
    },
    {
      "cell_type": "markdown",
      "metadata": {
        "id": "vAFsBB53hynd"
      },
      "source": [
        "### Step 4: Split train/test"
      ]
    },
    {
      "cell_type": "code",
      "metadata": {
        "id": "NmEoy9j_hyne",
        "outputId": "4662d28d-9430-42b2-eb06-c20bd058e7d4",
        "colab": {
          "base_uri": "https://localhost:8080/",
          "height": 72
        }
      },
      "source": [
        "## TODO: Use training / test split of 80%/20%\n",
        "\n",
        "from sklearn.model_selection import train_test_split\n",
        "## split the data \n",
        "x_train , x_test , y_train , y_test = train_test_split(x , y, test_size = 0.20)\n",
        "print( \"Size of \\nx_train :{}  y_train :{} \\nx_test :{}  y_test :{}\".format(  x_train.shape ,  y_train.shape , x_test.shape, y_test.shape )  )\n"
      ],
      "execution_count": 129,
      "outputs": [
        {
          "output_type": "stream",
          "text": [
            "Size of \n",
            "x_train :(4457, 8713)  y_train :(4457,) \n",
            "x_test :(1115, 8713)  y_test :(1115,)\n"
          ],
          "name": "stdout"
        }
      ]
    },
    {
      "cell_type": "markdown",
      "metadata": {
        "id": "XoITmZS8hynh"
      },
      "source": [
        "### Step 5 : Run Naive Bayes"
      ]
    },
    {
      "cell_type": "code",
      "metadata": {
        "id": "mTl1eNOShynh"
      },
      "source": [
        "from sklearn.naive_bayes import MultinomialNB\n",
        "\n",
        "nb = MultinomialNB ()\n",
        "modeltype = \"Multinominal Naive Bayes\"\n",
        "##TODO : fit on (x_train, y_train)\n",
        "model = nb.fit(x_train, y_train)"
      ],
      "execution_count": 130,
      "outputs": []
    },
    {
      "cell_type": "markdown",
      "metadata": {
        "id": "M4VSpKe1hynj"
      },
      "source": [
        "### TODO : Train and Evaluate the Model\n",
        "\n",
        "- Compute training / testing accuracy\n",
        "- compute confusion matrix"
      ]
    },
    {
      "cell_type": "code",
      "metadata": {
        "id": "0qX6Saj0EP48",
        "outputId": "0985581c-0238-498d-bd12-9814c4a11b7f",
        "colab": {
          "base_uri": "https://localhost:8080/",
          "height": 35
        }
      },
      "source": [
        "## Train the model \n",
        "tr_score = model.score(x_train, y_train)\n",
        "tst_score =   model.score(x_test, y_test)\n",
        "print ( \"{0}  Model Accuracy for training  :{1}  ,  Testing :{2}\".format( modeltype, tr_score ,   tst_score   ))\n"
      ],
      "execution_count": 131,
      "outputs": [
        {
          "output_type": "stream",
          "text": [
            "Multinominal Naive Bayes  Model Accuracy for training  :0.9699349338119811  ,  Testing :0.9650224215246637\n"
          ],
          "name": "stdout"
        }
      ]
    },
    {
      "cell_type": "code",
      "metadata": {
        "id": "BxOxeUKCEUgr"
      },
      "source": [
        "## Evaluate the model\n",
        "y_pred = model.predict(x_test)"
      ],
      "execution_count": 132,
      "outputs": []
    },
    {
      "cell_type": "code",
      "metadata": {
        "id": "RkYkcgTNDg6w",
        "outputId": "c7a99d15-c311-42a3-ac13-aa9d5bd8be24",
        "colab": {
          "base_uri": "https://localhost:8080/",
          "height": 662
        }
      },
      "source": [
        "from sklearn.metrics import classification_report, confusion_matrix\n",
        "\n",
        "print('=============show confusion matrix values=============', 60)\n",
        "# Show the Confusion Matrix\n",
        "cnf_matrix  = confusion_matrix(y_test, y_pred)\n",
        "print ('\\n\\t\\t \\n',cnf_matrix )\n",
        "\n",
        "\n",
        "print('=============Visualize confusion Matrix=============', 60)\n",
        "#Visualize confusion Matrix  \n",
        "fig, ax1 = plt.subplots(figsize=(10,5))\n",
        "tick_marks = np.arange(len(feature_labels))\n",
        "plt.xticks(tick_marks, feature_labels)\n",
        "plt.yticks(tick_marks, feature_labels)\n",
        "# create heatmap\n",
        "sns.heatmap(pd.DataFrame(cnf_matrix ), cmap=\"YlGnBu\" , annot=True,  fmt='g', ax=ax1)\n",
        "ax1.xaxis.set_label_position(\"top\")\n",
        "plt.title('Confusion matrix', y=1.1)\n",
        "plt.ylabel('Actual label')\n",
        "plt.xlabel('Predicted label')\n",
        "plt.show()\n",
        "\n",
        "print('=============Classification report=============\\n', 70)\n",
        "print(classification_report(y_test, y_pred))"
      ],
      "execution_count": 133,
      "outputs": [
        {
          "output_type": "stream",
          "text": [
            "=============show confusion matrix values============= 60\n",
            "\n",
            "\t\t \n",
            " [[975   0]\n",
            " [ 39 101]]\n",
            "=============Visualize confusion Matrix============= 60\n"
          ],
          "name": "stdout"
        },
        {
          "output_type": "display_data",
          "data": {
            "image/png": "[encoded data removed]",
            "text/plain": [
              "<Figure size 720x360 with 2 Axes>"
            ]
          },
          "metadata": {
            "tags": [],
            "needs_background": "light"
          }
        },
        {
          "output_type": "stream",
          "text": [
            "=============Classification report=============\n",
            " 70\n",
            "              precision    recall  f1-score   support\n",
            "\n",
            "           0       0.96      1.00      0.98       975\n",
            "           1       1.00      0.72      0.84       140\n",
            "\n",
            "    accuracy                           0.97      1115\n",
            "   macro avg       0.98      0.86      0.91      1115\n",
            "weighted avg       0.97      0.97      0.96      1115\n",
            "\n"
          ],
          "name": "stdout"
        }
      ]
    },
    {
      "cell_type": "markdown",
      "metadata": {
        "id": "Y7VabfAVhynk"
      },
      "source": [
        "### Run your own data!\n",
        "\n",
        "Now it's your turn!   Make a new dataframe with some sample test data of your own creation.  Make some \"spammy\" SMSes and some ordinary ones.  See how our spam filter does."
      ]
    },
    {
      "cell_type": "code",
      "metadata": {
        "id": "Zm1cDBmvhynk",
        "outputId": "4d00b5ec-b797-4e7d-fcb6-2c3166db59c1",
        "colab": {
          "base_uri": "https://localhost:8080/",
          "height": 168
        }
      },
      "source": [
        "mydata = pd.DataFrame ( { 'text' : [\n",
        "                                     'can we meet for lunch?',\n",
        "                                     'win win win instant tickets!',\n",
        "                                     'ultra cheap medications!!!',\n",
        "                                     'There is hurricane'\n",
        "]})\n",
        "\n",
        "mydata"
      ],
      "execution_count": 134,
      "outputs": [
        {
          "output_type": "execute_result",
          "data": {
            "text/html": [
              "<div>\n",
              "<style scoped>\n",
              "    .dataframe tbody tr th:only-of-type {\n",
              "        vertical-align: middle;\n",
              "    }\n",
              "\n",
              "    .dataframe tbody tr th {\n",
              "        vertical-align: top;\n",
              "    }\n",
              "\n",
              "    .dataframe thead th {\n",
              "        text-align: right;\n",
              "    }\n",
              "</style>\n",
              "<table border=\"1\" class=\"dataframe\">\n",
              "  <thead>\n",
              "    <tr style=\"text-align: right;\">\n",
              "      <th></th>\n",
              "      <th>text</th>\n",
              "    </tr>\n",
              "  </thead>\n",
              "  <tbody>\n",
              "    <tr>\n",
              "      <th>0</th>\n",
              "      <td>can we meet for lunch?</td>\n",
              "    </tr>\n",
              "    <tr>\n",
              "      <th>1</th>\n",
              "      <td>win win win instant tickets!</td>\n",
              "    </tr>\n",
              "    <tr>\n",
              "      <th>2</th>\n",
              "      <td>ultra cheap medications!!!</td>\n",
              "    </tr>\n",
              "    <tr>\n",
              "      <th>3</th>\n",
              "      <td>There is hurricane</td>\n",
              "    </tr>\n",
              "  </tbody>\n",
              "</table>\n",
              "</div>"
            ],
            "text/plain": [
              "                           text\n",
              "0        can we meet for lunch?\n",
              "1  win win win instant tickets!\n",
              "2    ultra cheap medications!!!\n",
              "3            There is hurricane"
            ]
          },
          "metadata": {
            "tags": []
          },
          "execution_count": 134
        }
      ]
    },
    {
      "cell_type": "code",
      "metadata": {
        "id": "Dh-OGUBBhynn",
        "outputId": "ee5de426-ba0e-47a6-f25a-243c71f005dc",
        "colab": {
          "base_uri": "https://localhost:8080/",
          "height": 54
        }
      },
      "source": [
        "my_x = pipeline.transform(mydata['text'])\n",
        "my_x"
      ],
      "execution_count": 135,
      "outputs": [
        {
          "output_type": "execute_result",
          "data": {
            "text/plain": [
              "<4x8713 sparse matrix of type '<class 'numpy.float64'>'\n",
              "\twith 11 stored elements in Compressed Sparse Row format>"
            ]
          },
          "metadata": {
            "tags": []
          },
          "execution_count": 135
        }
      ]
    },
    {
      "cell_type": "markdown",
      "metadata": {
        "id": "1r85CQUurklN"
      },
      "source": [
        ""
      ]
    },
    {
      "cell_type": "code",
      "metadata": {
        "id": "xdhutGQahynq",
        "outputId": "506ec740-6f0a-4bc0-d3cb-00b48591457a",
        "colab": {
          "base_uri": "https://localhost:8080/",
          "height": 35
        }
      },
      "source": [
        "my_pred = model.predict(my_x)\n",
        "my_pred"
      ],
      "execution_count": 136,
      "outputs": [
        {
          "output_type": "execute_result",
          "data": {
            "text/plain": [
              "array([0, 1, 0, 0])"
            ]
          },
          "metadata": {
            "tags": []
          },
          "execution_count": 136
        }
      ]
    },
    {
      "cell_type": "code",
      "metadata": {
        "id": "BcdyejFrhyns",
        "outputId": "19f62b01-e8bb-4334-f097-3f3f10854614",
        "colab": {
          "base_uri": "https://localhost:8080/",
          "height": 168
        }
      },
      "source": [
        "mydata['prediction'] = my_pred\n",
        "mydata"
      ],
      "execution_count": 137,
      "outputs": [
        {
          "output_type": "execute_result",
          "data": {
            "text/html": [
              "<div>\n",
              "<style scoped>\n",
              "    .dataframe tbody tr th:only-of-type {\n",
              "        vertical-align: middle;\n",
              "    }\n",
              "\n",
              "    .dataframe tbody tr th {\n",
              "        vertical-align: top;\n",
              "    }\n",
              "\n",
              "    .dataframe thead th {\n",
              "        text-align: right;\n",
              "    }\n",
              "</style>\n",
              "<table border=\"1\" class=\"dataframe\">\n",
              "  <thead>\n",
              "    <tr style=\"text-align: right;\">\n",
              "      <th></th>\n",
              "      <th>text</th>\n",
              "      <th>prediction</th>\n",
              "    </tr>\n",
              "  </thead>\n",
              "  <tbody>\n",
              "    <tr>\n",
              "      <th>0</th>\n",
              "      <td>can we meet for lunch?</td>\n",
              "      <td>0</td>\n",
              "    </tr>\n",
              "    <tr>\n",
              "      <th>1</th>\n",
              "      <td>win win win instant tickets!</td>\n",
              "      <td>1</td>\n",
              "    </tr>\n",
              "    <tr>\n",
              "      <th>2</th>\n",
              "      <td>ultra cheap medications!!!</td>\n",
              "      <td>0</td>\n",
              "    </tr>\n",
              "    <tr>\n",
              "      <th>3</th>\n",
              "      <td>There is hurricane</td>\n",
              "      <td>0</td>\n",
              "    </tr>\n",
              "  </tbody>\n",
              "</table>\n",
              "</div>"
            ],
            "text/plain": [
              "                           text  prediction\n",
              "0        can we meet for lunch?           0\n",
              "1  win win win instant tickets!           1\n",
              "2    ultra cheap medications!!!           0\n",
              "3            There is hurricane           0"
            ]
          },
          "metadata": {
            "tags": []
          },
          "execution_count": 137
        }
      ]
    },
    {
      "cell_type": "markdown",
      "metadata": {
        "id": "FYivQxHHK82I"
      },
      "source": [
        ""
      ]
    },
    {
      "cell_type": "markdown",
      "metadata": {
        "id": "axQzGzV_qd_D"
      },
      "source": [
        "#EX-3 - BONUS Lab\n",
        "\n",
        "<ul>\n",
        "  <li>Choose another text or categorical data from <a href=\"\n",
        "  https://elephantscale.github.io/guided-machine-learning/data.html\">data section</a></li>\n",
        "  <li>And solve it with naive bayes</li>\n",
        "</ul>"
      ]
    },
    {
      "cell_type": "code",
      "metadata": {
        "id": "1R1Y1FhNhynv"
      },
      "source": [
        ""
      ],
      "execution_count": null,
      "outputs": []
    }
  ]
}
