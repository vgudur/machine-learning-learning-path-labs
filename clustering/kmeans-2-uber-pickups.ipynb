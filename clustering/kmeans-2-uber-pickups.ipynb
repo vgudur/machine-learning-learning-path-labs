{
  "nbformat": 4,
  "nbformat_minor": 0,
  "metadata": {
    "anaconda-cloud": {},
    "kernelspec": {
      "display_name": "Python 3",
      "language": "python",
      "name": "python3"
    },
    "language_info": {
      "codemirror_mode": {
        "name": "ipython",
        "version": 3
      },
      "file_extension": ".py",
      "mimetype": "text/x-python",
      "name": "python",
      "nbconvert_exporter": "python",
      "pygments_lexer": "ipython3",
      "version": "3.8.3"
    },
    "colab": {
      "name": "kmeans-2-uber-pickups.ipynb",
      "provenance": []
    }
  },
  "cells": [
    {
      "cell_type": "markdown",
      "metadata": {
        "id": "otuNUazJPoRF"
      },
      "source": [
        "# Clustering : K-Means : Uber Pickups\n",
        "\n",
        "This is data of Uber pickups in New York City.  \n",
        "The data is from this [kaggle competition](https://www.kaggle.com/fivethirtyeight/uber-pickups-in-new-york-city).\n",
        "\n",
        "Sample data looks like this\n",
        "```\n",
        "\"Date_Time\",\"Lat\",\"Lon\",\"Base\"\n",
        "\"4/1/2014 0:11:00\",40.769,-73.9549,\"B02512\"\n",
        "\"4/1/2014 0:17:00\",40.7267,-74.0345,\"B02512\"\n",
        "\"4/1/2014 0:21:00\",40.7316,-73.9873,\"B02512\"\n",
        "\"4/1/2014 0:28:00\",40.7588,-73.9776,\"B02512\"\n",
        "```"
      ]
    },
    {
      "cell_type": "markdown",
      "metadata": {
        "id": "ZGqgHBUdPoRK"
      },
      "source": [
        "## Step 1: Load the Data\n",
        "We will also specify schema to reduce loading time"
      ]
    },
    {
      "cell_type": "code",
      "metadata": {
        "id": "WSFJNLXCPoRL",
        "outputId": "32eb4a59-529e-4295-ff7e-1b2313c2f2b1",
        "colab": {
          "base_uri": "https://localhost:8080/"
        }
      },
      "source": [
        "import os\n",
        "import urllib.request\n",
        "\n",
        "## sample file with 10,000 records\n",
        "##data_location=\"../data/uber-nyc/uber-sample-10k.csv\"\n",
        "##data_url = 'https://elephantscale-public.s3.amazonaws.com/data/uber-nyc/uber-sample-10k.csv'\n",
        "\n",
        "## larger file with about 500k records\n",
        "data_location = \"../data/uber-nyc/uber-raw-data-apr14.csv.gz\"\n",
        "data_url = 'https://elephantscale-public.s3.amazonaws.com/data/uber-nyc/uber-raw-data-apr14.csv.gz'\n",
        "\n",
        "if not os.path.exists (data_location):\n",
        "    data_location = os.path.basename(data_location)\n",
        "    if not os.path.exists(data_location):\n",
        "        print(\"Downloading : \", data_url)\n",
        "        urllib.request.urlretrieve(data_url, data_location)\n",
        "print('data_location:', data_location)\n",
        "\n"
      ],
      "execution_count": 33,
      "outputs": [
        {
          "output_type": "stream",
          "text": [
            "Downloading :  https://elephantscale-public.s3.amazonaws.com/data/uber-nyc/uber-raw-data-apr14.csv.gz\n",
            "data_location: uber-raw-data-apr14.csv.gz\n"
          ],
          "name": "stdout"
        }
      ]
    },
    {
      "cell_type": "code",
      "metadata": {
        "id": "s6D7UxP9PoRL",
        "outputId": "557af25f-b300-4156-9054-164b86ec11ed",
        "colab": {
          "base_uri": "https://localhost:8080/",
          "height": 563
        }
      },
      "source": [
        "import pandas as pd\n",
        "\n",
        "dataset = pd.read_csv(data_location)\n",
        "print (dataset.info())\n",
        "dataset.sample(10)"
      ],
      "execution_count": 34,
      "outputs": [
        {
          "output_type": "stream",
          "text": [
            "<class 'pandas.core.frame.DataFrame'>\n",
            "RangeIndex: 564516 entries, 0 to 564515\n",
            "Data columns (total 4 columns):\n",
            " #   Column     Non-Null Count   Dtype  \n",
            "---  ------     --------------   -----  \n",
            " 0   Date_Time  564516 non-null  object \n",
            " 1   Lat        564516 non-null  float64\n",
            " 2   Lon        564516 non-null  float64\n",
            " 3   Base       564516 non-null  object \n",
            "dtypes: float64(2), object(2)\n",
            "memory usage: 17.2+ MB\n",
            "None\n"
          ],
          "name": "stdout"
        },
        {
          "output_type": "execute_result",
          "data": {
            "text/html": [
              "<div>\n",
              "<style scoped>\n",
              "    .dataframe tbody tr th:only-of-type {\n",
              "        vertical-align: middle;\n",
              "    }\n",
              "\n",
              "    .dataframe tbody tr th {\n",
              "        vertical-align: top;\n",
              "    }\n",
              "\n",
              "    .dataframe thead th {\n",
              "        text-align: right;\n",
              "    }\n",
              "</style>\n",
              "<table border=\"1\" class=\"dataframe\">\n",
              "  <thead>\n",
              "    <tr style=\"text-align: right;\">\n",
              "      <th></th>\n",
              "      <th>Date_Time</th>\n",
              "      <th>Lat</th>\n",
              "      <th>Lon</th>\n",
              "      <th>Base</th>\n",
              "    </tr>\n",
              "  </thead>\n",
              "  <tbody>\n",
              "    <tr>\n",
              "      <th>446499</th>\n",
              "      <td>4/16/2014 18:52:00</td>\n",
              "      <td>40.7523</td>\n",
              "      <td>-73.9784</td>\n",
              "      <td>B02682</td>\n",
              "    </tr>\n",
              "    <tr>\n",
              "      <th>557325</th>\n",
              "      <td>4/9/2014 5:52:00</td>\n",
              "      <td>40.7337</td>\n",
              "      <td>-73.9980</td>\n",
              "      <td>B02764</td>\n",
              "    </tr>\n",
              "    <tr>\n",
              "      <th>328982</th>\n",
              "      <td>4/1/2014 12:24:00</td>\n",
              "      <td>40.7485</td>\n",
              "      <td>-73.9929</td>\n",
              "      <td>B02682</td>\n",
              "    </tr>\n",
              "    <tr>\n",
              "      <th>482361</th>\n",
              "      <td>4/22/2014 15:01:00</td>\n",
              "      <td>40.6755</td>\n",
              "      <td>-73.9980</td>\n",
              "      <td>B02682</td>\n",
              "    </tr>\n",
              "    <tr>\n",
              "      <th>456936</th>\n",
              "      <td>4/18/2014 0:35:00</td>\n",
              "      <td>40.7210</td>\n",
              "      <td>-74.0449</td>\n",
              "      <td>B02682</td>\n",
              "    </tr>\n",
              "    <tr>\n",
              "      <th>288718</th>\n",
              "      <td>4/21/2014 7:13:00</td>\n",
              "      <td>40.7789</td>\n",
              "      <td>-73.9559</td>\n",
              "      <td>B02617</td>\n",
              "    </tr>\n",
              "    <tr>\n",
              "      <th>51875</th>\n",
              "      <td>4/4/2014 14:57:00</td>\n",
              "      <td>40.6784</td>\n",
              "      <td>-73.9678</td>\n",
              "      <td>B02598</td>\n",
              "    </tr>\n",
              "    <tr>\n",
              "      <th>548136</th>\n",
              "      <td>4/30/2014 16:37:00</td>\n",
              "      <td>40.7667</td>\n",
              "      <td>-73.9538</td>\n",
              "      <td>B02682</td>\n",
              "    </tr>\n",
              "    <tr>\n",
              "      <th>550445</th>\n",
              "      <td>4/30/2014 18:50:00</td>\n",
              "      <td>40.7441</td>\n",
              "      <td>-73.9742</td>\n",
              "      <td>B02682</td>\n",
              "    </tr>\n",
              "    <tr>\n",
              "      <th>429419</th>\n",
              "      <td>4/14/2014 10:54:00</td>\n",
              "      <td>40.7658</td>\n",
              "      <td>-73.9762</td>\n",
              "      <td>B02682</td>\n",
              "    </tr>\n",
              "  </tbody>\n",
              "</table>\n",
              "</div>"
            ],
            "text/plain": [
              "                 Date_Time      Lat      Lon    Base\n",
              "446499  4/16/2014 18:52:00  40.7523 -73.9784  B02682\n",
              "557325    4/9/2014 5:52:00  40.7337 -73.9980  B02764\n",
              "328982   4/1/2014 12:24:00  40.7485 -73.9929  B02682\n",
              "482361  4/22/2014 15:01:00  40.6755 -73.9980  B02682\n",
              "456936   4/18/2014 0:35:00  40.7210 -74.0449  B02682\n",
              "288718   4/21/2014 7:13:00  40.7789 -73.9559  B02617\n",
              "51875    4/4/2014 14:57:00  40.6784 -73.9678  B02598\n",
              "548136  4/30/2014 16:37:00  40.7667 -73.9538  B02682\n",
              "550445  4/30/2014 18:50:00  40.7441 -73.9742  B02682\n",
              "429419  4/14/2014 10:54:00  40.7658 -73.9762  B02682"
            ]
          },
          "metadata": {
            "tags": []
          },
          "execution_count": 34
        }
      ]
    },
    {
      "cell_type": "markdown",
      "metadata": {
        "id": "QoBW9NlwPoRL"
      },
      "source": [
        "## Step 2: Cleanup data\n",
        "make sure our data is clean"
      ]
    },
    {
      "cell_type": "code",
      "metadata": {
        "id": "EmA-_UQaPoRM",
        "outputId": "b4722ed8-8526-4aa9-aa84-7d0ce626983a",
        "colab": {
          "base_uri": "https://localhost:8080/"
        }
      },
      "source": [
        "uber_pickups_clean = dataset.dropna(subset=['Lat', 'Lon'])\n",
        "print ('uber_picksups_clean : ', uber_pickups_clean.shape)"
      ],
      "execution_count": 35,
      "outputs": [
        {
          "output_type": "stream",
          "text": [
            "uber_picksups_clean :  (564516, 4)\n"
          ],
          "name": "stdout"
        }
      ]
    },
    {
      "cell_type": "markdown",
      "metadata": {
        "id": "pgKPutJwPoRM"
      },
      "source": [
        "## Step 3 : Create Feature Vectors"
      ]
    },
    {
      "cell_type": "code",
      "metadata": {
        "id": "4SeKxVguPoRM",
        "outputId": "b67e4fb9-ceb6-4fc8-b59e-0d0096b667e9",
        "colab": {
          "base_uri": "https://localhost:8080/",
          "height": 419
        }
      },
      "source": [
        "## TODO : create a feature vectors using 'Lat'  and 'Lon'  attributes\n",
        "x = uber_pickups_clean[['Lat', 'Lon']]\n",
        "x"
      ],
      "execution_count": 36,
      "outputs": [
        {
          "output_type": "execute_result",
          "data": {
            "text/html": [
              "<div>\n",
              "<style scoped>\n",
              "    .dataframe tbody tr th:only-of-type {\n",
              "        vertical-align: middle;\n",
              "    }\n",
              "\n",
              "    .dataframe tbody tr th {\n",
              "        vertical-align: top;\n",
              "    }\n",
              "\n",
              "    .dataframe thead th {\n",
              "        text-align: right;\n",
              "    }\n",
              "</style>\n",
              "<table border=\"1\" class=\"dataframe\">\n",
              "  <thead>\n",
              "    <tr style=\"text-align: right;\">\n",
              "      <th></th>\n",
              "      <th>Lat</th>\n",
              "      <th>Lon</th>\n",
              "    </tr>\n",
              "  </thead>\n",
              "  <tbody>\n",
              "    <tr>\n",
              "      <th>0</th>\n",
              "      <td>40.7690</td>\n",
              "      <td>-73.9549</td>\n",
              "    </tr>\n",
              "    <tr>\n",
              "      <th>1</th>\n",
              "      <td>40.7267</td>\n",
              "      <td>-74.0345</td>\n",
              "    </tr>\n",
              "    <tr>\n",
              "      <th>2</th>\n",
              "      <td>40.7316</td>\n",
              "      <td>-73.9873</td>\n",
              "    </tr>\n",
              "    <tr>\n",
              "      <th>3</th>\n",
              "      <td>40.7588</td>\n",
              "      <td>-73.9776</td>\n",
              "    </tr>\n",
              "    <tr>\n",
              "      <th>4</th>\n",
              "      <td>40.7594</td>\n",
              "      <td>-73.9722</td>\n",
              "    </tr>\n",
              "    <tr>\n",
              "      <th>...</th>\n",
              "      <td>...</td>\n",
              "      <td>...</td>\n",
              "    </tr>\n",
              "    <tr>\n",
              "      <th>564511</th>\n",
              "      <td>40.7640</td>\n",
              "      <td>-73.9744</td>\n",
              "    </tr>\n",
              "    <tr>\n",
              "      <th>564512</th>\n",
              "      <td>40.7629</td>\n",
              "      <td>-73.9672</td>\n",
              "    </tr>\n",
              "    <tr>\n",
              "      <th>564513</th>\n",
              "      <td>40.7443</td>\n",
              "      <td>-73.9889</td>\n",
              "    </tr>\n",
              "    <tr>\n",
              "      <th>564514</th>\n",
              "      <td>40.6756</td>\n",
              "      <td>-73.9405</td>\n",
              "    </tr>\n",
              "    <tr>\n",
              "      <th>564515</th>\n",
              "      <td>40.6880</td>\n",
              "      <td>-73.9608</td>\n",
              "    </tr>\n",
              "  </tbody>\n",
              "</table>\n",
              "<p>564516 rows × 2 columns</p>\n",
              "</div>"
            ],
            "text/plain": [
              "            Lat      Lon\n",
              "0       40.7690 -73.9549\n",
              "1       40.7267 -74.0345\n",
              "2       40.7316 -73.9873\n",
              "3       40.7588 -73.9776\n",
              "4       40.7594 -73.9722\n",
              "...         ...      ...\n",
              "564511  40.7640 -73.9744\n",
              "564512  40.7629 -73.9672\n",
              "564513  40.7443 -73.9889\n",
              "564514  40.6756 -73.9405\n",
              "564515  40.6880 -73.9608\n",
              "\n",
              "[564516 rows x 2 columns]"
            ]
          },
          "metadata": {
            "tags": []
          },
          "execution_count": 36
        }
      ]
    },
    {
      "cell_type": "markdown",
      "metadata": {
        "id": "0QUOsFp6PoRM"
      },
      "source": [
        "## Step 4 : Run K-Means"
      ]
    },
    {
      "cell_type": "code",
      "metadata": {
        "id": "k6VmZEBKPoRN",
        "outputId": "53b30d78-28fd-4fca-8b19-715713a9a8df",
        "colab": {
          "base_uri": "https://localhost:8080/"
        }
      },
      "source": [
        "%%time \n",
        "from sklearn.cluster import KMeans\n",
        "\n",
        "## TODO : start with num_clusters=4\n",
        "num_clusters = 4\n",
        "kmeans = KMeans(n_clusters=num_clusters)\n",
        "\n",
        "model = kmeans.fit(x)\n",
        "\n",
        "wssse = model.inertia_\n",
        "\n",
        "print (\"num_clusters = {},  WSSSE = {:,}\".format(num_clusters, wssse))"
      ],
      "execution_count": 37,
      "outputs": [
        {
          "output_type": "stream",
          "text": [
            "num_clusters = 4,  WSSSE = 809.5592137545563\n",
            "CPU times: user 7.09 s, sys: 1.57 s, total: 8.66 s\n",
            "Wall time: 6.8 s\n"
          ],
          "name": "stdout"
        }
      ]
    },
    {
      "cell_type": "markdown",
      "metadata": {
        "id": "tOvKIxKnPoRN"
      },
      "source": [
        "## Step 5: Let's find the best K - Hyperparameter tuning\n",
        "\n",
        "Let's try iterating and plotting over values of k, so we can practice using the elbow method.\n"
      ]
    },
    {
      "cell_type": "code",
      "metadata": {
        "id": "Kb5TsoKlPoRN",
        "outputId": "8b72d8c6-fd1b-4fe3-e4d4-97492e67c5dd",
        "colab": {
          "base_uri": "https://localhost:8080/"
        }
      },
      "source": [
        "import time\n",
        "\n",
        "kvals = []\n",
        "wssses = []\n",
        "\n",
        "## TODO : loop over k values from 2 to 10\n",
        "for k in range(2, 10):\n",
        "    kmeans = KMeans(n_clusters=k)\n",
        "    t1 = time.perf_counter()\n",
        "    model = kmeans.fit(x)\n",
        "    t2 = time.perf_counter()\n",
        "    wssse = model.inertia_\n",
        "    print (\"k={},  wssse={},  time took {:,.2f} ms\".format(k,wssse, ((t2-t1)*1000)))\n",
        "    kvals.append(k)\n",
        "    wssses.append(wssse)"
      ],
      "execution_count": 38,
      "outputs": [
        {
          "output_type": "stream",
          "text": [
            "k=2,  wssse=1355.951254638839,  time took 3,605.55 ms\n",
            "k=3,  wssse=1020.1664209884067,  time took 5,164.01 ms\n",
            "k=4,  wssse=809.5593794002397,  time took 7,279.53 ms\n",
            "k=5,  wssse=627.7495638185118,  time took 8,042.69 ms\n",
            "k=6,  wssse=494.81016251671355,  time took 7,171.57 ms\n",
            "k=7,  wssse=409.002488731613,  time took 11,041.14 ms\n",
            "k=8,  wssse=361.07818536420586,  time took 13,043.56 ms\n",
            "k=9,  wssse=325.32251914889434,  time took 14,690.93 ms\n",
            "k=10,  wssse=292.33248207127224,  time took 16,888.81 ms\n",
            "k=11,  wssse=267.4377799798959,  time took 18,262.84 ms\n",
            "k=12,  wssse=244.274337960301,  time took 26,485.86 ms\n",
            "k=13,  wssse=223.88822059103515,  time took 21,533.66 ms\n",
            "k=14,  wssse=212.98369259312295,  time took 25,781.88 ms\n",
            "k=15,  wssse=200.21664722381163,  time took 22,688.04 ms\n",
            "k=16,  wssse=186.17839313781334,  time took 24,404.00 ms\n",
            "k=17,  wssse=177.44776712441436,  time took 34,661.58 ms\n",
            "k=18,  wssse=166.7897784985189,  time took 38,717.30 ms\n",
            "k=19,  wssse=160.98410340220144,  time took 36,701.20 ms\n"
          ],
          "name": "stdout"
        }
      ]
    },
    {
      "cell_type": "code",
      "metadata": {
        "id": "dN39PirdPoRN",
        "outputId": "05a50f87-3852-4878-a2b3-a27cc043cac9",
        "colab": {
          "base_uri": "https://localhost:8080/",
          "height": 607
        }
      },
      "source": [
        "import pandas as pd\n",
        "\n",
        "df = pd.DataFrame({'k': kvals, 'wssse':wssses})\n",
        "df"
      ],
      "execution_count": 39,
      "outputs": [
        {
          "output_type": "execute_result",
          "data": {
            "text/html": [
              "<div>\n",
              "<style scoped>\n",
              "    .dataframe tbody tr th:only-of-type {\n",
              "        vertical-align: middle;\n",
              "    }\n",
              "\n",
              "    .dataframe tbody tr th {\n",
              "        vertical-align: top;\n",
              "    }\n",
              "\n",
              "    .dataframe thead th {\n",
              "        text-align: right;\n",
              "    }\n",
              "</style>\n",
              "<table border=\"1\" class=\"dataframe\">\n",
              "  <thead>\n",
              "    <tr style=\"text-align: right;\">\n",
              "      <th></th>\n",
              "      <th>k</th>\n",
              "      <th>wssse</th>\n",
              "    </tr>\n",
              "  </thead>\n",
              "  <tbody>\n",
              "    <tr>\n",
              "      <th>0</th>\n",
              "      <td>2</td>\n",
              "      <td>1355.951255</td>\n",
              "    </tr>\n",
              "    <tr>\n",
              "      <th>1</th>\n",
              "      <td>3</td>\n",
              "      <td>1020.166421</td>\n",
              "    </tr>\n",
              "    <tr>\n",
              "      <th>2</th>\n",
              "      <td>4</td>\n",
              "      <td>809.559379</td>\n",
              "    </tr>\n",
              "    <tr>\n",
              "      <th>3</th>\n",
              "      <td>5</td>\n",
              "      <td>627.749564</td>\n",
              "    </tr>\n",
              "    <tr>\n",
              "      <th>4</th>\n",
              "      <td>6</td>\n",
              "      <td>494.810163</td>\n",
              "    </tr>\n",
              "    <tr>\n",
              "      <th>5</th>\n",
              "      <td>7</td>\n",
              "      <td>409.002489</td>\n",
              "    </tr>\n",
              "    <tr>\n",
              "      <th>6</th>\n",
              "      <td>8</td>\n",
              "      <td>361.078185</td>\n",
              "    </tr>\n",
              "    <tr>\n",
              "      <th>7</th>\n",
              "      <td>9</td>\n",
              "      <td>325.322519</td>\n",
              "    </tr>\n",
              "    <tr>\n",
              "      <th>8</th>\n",
              "      <td>10</td>\n",
              "      <td>292.332482</td>\n",
              "    </tr>\n",
              "    <tr>\n",
              "      <th>9</th>\n",
              "      <td>11</td>\n",
              "      <td>267.437780</td>\n",
              "    </tr>\n",
              "    <tr>\n",
              "      <th>10</th>\n",
              "      <td>12</td>\n",
              "      <td>244.274338</td>\n",
              "    </tr>\n",
              "    <tr>\n",
              "      <th>11</th>\n",
              "      <td>13</td>\n",
              "      <td>223.888221</td>\n",
              "    </tr>\n",
              "    <tr>\n",
              "      <th>12</th>\n",
              "      <td>14</td>\n",
              "      <td>212.983693</td>\n",
              "    </tr>\n",
              "    <tr>\n",
              "      <th>13</th>\n",
              "      <td>15</td>\n",
              "      <td>200.216647</td>\n",
              "    </tr>\n",
              "    <tr>\n",
              "      <th>14</th>\n",
              "      <td>16</td>\n",
              "      <td>186.178393</td>\n",
              "    </tr>\n",
              "    <tr>\n",
              "      <th>15</th>\n",
              "      <td>17</td>\n",
              "      <td>177.447767</td>\n",
              "    </tr>\n",
              "    <tr>\n",
              "      <th>16</th>\n",
              "      <td>18</td>\n",
              "      <td>166.789778</td>\n",
              "    </tr>\n",
              "    <tr>\n",
              "      <th>17</th>\n",
              "      <td>19</td>\n",
              "      <td>160.984103</td>\n",
              "    </tr>\n",
              "  </tbody>\n",
              "</table>\n",
              "</div>"
            ],
            "text/plain": [
              "     k        wssse\n",
              "0    2  1355.951255\n",
              "1    3  1020.166421\n",
              "2    4   809.559379\n",
              "3    5   627.749564\n",
              "4    6   494.810163\n",
              "5    7   409.002489\n",
              "6    8   361.078185\n",
              "7    9   325.322519\n",
              "8   10   292.332482\n",
              "9   11   267.437780\n",
              "10  12   244.274338\n",
              "11  13   223.888221\n",
              "12  14   212.983693\n",
              "13  15   200.216647\n",
              "14  16   186.178393\n",
              "15  17   177.447767\n",
              "16  18   166.789778\n",
              "17  19   160.984103"
            ]
          },
          "metadata": {
            "tags": []
          },
          "execution_count": 39
        }
      ]
    },
    {
      "cell_type": "code",
      "metadata": {
        "id": "kjAtFrdcPoRO",
        "outputId": "f43a3631-c43f-495b-c57a-5bcb7b2f8e4d",
        "colab": {
          "base_uri": "https://localhost:8080/",
          "height": 284
        }
      },
      "source": [
        "%matplotlib inline\n",
        "from matplotlib import pyplot\n",
        "\n",
        "pyplot.plot(kvals, wssses)"
      ],
      "execution_count": 40,
      "outputs": [
        {
          "output_type": "execute_result",
          "data": {
            "text/plain": [
              "[<matplotlib.lines.Line2D at 0x7fd49db94a20>]"
            ]
          },
          "metadata": {
            "tags": []
          },
          "execution_count": 40
        },
        {
          "output_type": "display_data",
          "data": {
            "image/png": "[encoded data removed]",
            "text/plain": [
              "<Figure size 432x288 with 1 Axes>"
            ]
          },
          "metadata": {
            "tags": [],
            "needs_background": "light"
          }
        }
      ]
    },
    {
      "cell_type": "markdown",
      "metadata": {
        "id": "Mgjvgu-5PoRO"
      },
      "source": [
        "## Step 6 : Let's run K-Means with the best K we have choosen\n",
        "From the graph above, choose a good K value.  We will use that below"
      ]
    },
    {
      "cell_type": "code",
      "metadata": {
        "id": "6OBCXtIqPoRO",
        "outputId": "2ac59a9a-e25f-4557-bfbb-d0ddc67666e7",
        "colab": {
          "base_uri": "https://localhost:8080/"
        }
      },
      "source": [
        "%%time \n",
        "\n",
        "## TODO : choose an appropriate k\n",
        "## pick from elbow region from the graph above\n",
        "num_clusters = 12\n",
        "kmeans = KMeans(n_clusters=num_clusters)\n",
        "\n",
        "model = kmeans.fit(x)\n",
        "\n",
        "wssse = model.inertia_\n",
        "\n",
        "print (\"num_clusters = {},  WSSSE = {:,}\".format(num_clusters, wssse))"
      ],
      "execution_count": 41,
      "outputs": [
        {
          "output_type": "stream",
          "text": [
            "num_clusters = 12,  WSSSE = 244.25462584473658\n",
            "CPU times: user 20.4 s, sys: 4.05 s, total: 24.4 s\n",
            "Wall time: 19.5 s\n"
          ],
          "name": "stdout"
        }
      ]
    },
    {
      "cell_type": "markdown",
      "metadata": {
        "id": "IUUaw_sAPoRO"
      },
      "source": [
        "## Step 7: Predict"
      ]
    },
    {
      "cell_type": "code",
      "metadata": {
        "id": "w7-fFYBYPoRP",
        "outputId": "6731992e-df35-4f43-87ec-dfc6479176ba",
        "colab": {
          "base_uri": "https://localhost:8080/"
        }
      },
      "source": [
        "predictions = model.predict(x)\n",
        "predictions"
      ],
      "execution_count": 42,
      "outputs": [
        {
          "output_type": "execute_result",
          "data": {
            "text/plain": [
              "array([ 2,  9,  0, ...,  0, 10, 10], dtype=int32)"
            ]
          },
          "metadata": {
            "tags": []
          },
          "execution_count": 42
        }
      ]
    },
    {
      "cell_type": "code",
      "metadata": {
        "id": "RHa6SDTSPoRP",
        "outputId": "5ad8f882-0ee3-4559-cb09-a0b03c61c7ec",
        "colab": {
          "base_uri": "https://localhost:8080/",
          "height": 419
        }
      },
      "source": [
        "uber_pickups_clean['prediction'] = predictions\n",
        "uber_pickups_clean"
      ],
      "execution_count": 43,
      "outputs": [
        {
          "output_type": "execute_result",
          "data": {
            "text/html": [
              "<div>\n",
              "<style scoped>\n",
              "    .dataframe tbody tr th:only-of-type {\n",
              "        vertical-align: middle;\n",
              "    }\n",
              "\n",
              "    .dataframe tbody tr th {\n",
              "        vertical-align: top;\n",
              "    }\n",
              "\n",
              "    .dataframe thead th {\n",
              "        text-align: right;\n",
              "    }\n",
              "</style>\n",
              "<table border=\"1\" class=\"dataframe\">\n",
              "  <thead>\n",
              "    <tr style=\"text-align: right;\">\n",
              "      <th></th>\n",
              "      <th>Date_Time</th>\n",
              "      <th>Lat</th>\n",
              "      <th>Lon</th>\n",
              "      <th>Base</th>\n",
              "      <th>prediction</th>\n",
              "    </tr>\n",
              "  </thead>\n",
              "  <tbody>\n",
              "    <tr>\n",
              "      <th>0</th>\n",
              "      <td>4/1/2014 0:11:00</td>\n",
              "      <td>40.7690</td>\n",
              "      <td>-73.9549</td>\n",
              "      <td>B02512</td>\n",
              "      <td>2</td>\n",
              "    </tr>\n",
              "    <tr>\n",
              "      <th>1</th>\n",
              "      <td>4/1/2014 0:17:00</td>\n",
              "      <td>40.7267</td>\n",
              "      <td>-74.0345</td>\n",
              "      <td>B02512</td>\n",
              "      <td>9</td>\n",
              "    </tr>\n",
              "    <tr>\n",
              "      <th>2</th>\n",
              "      <td>4/1/2014 0:21:00</td>\n",
              "      <td>40.7316</td>\n",
              "      <td>-73.9873</td>\n",
              "      <td>B02512</td>\n",
              "      <td>0</td>\n",
              "    </tr>\n",
              "    <tr>\n",
              "      <th>3</th>\n",
              "      <td>4/1/2014 0:28:00</td>\n",
              "      <td>40.7588</td>\n",
              "      <td>-73.9776</td>\n",
              "      <td>B02512</td>\n",
              "      <td>7</td>\n",
              "    </tr>\n",
              "    <tr>\n",
              "      <th>4</th>\n",
              "      <td>4/1/2014 0:33:00</td>\n",
              "      <td>40.7594</td>\n",
              "      <td>-73.9722</td>\n",
              "      <td>B02512</td>\n",
              "      <td>7</td>\n",
              "    </tr>\n",
              "    <tr>\n",
              "      <th>...</th>\n",
              "      <td>...</td>\n",
              "      <td>...</td>\n",
              "      <td>...</td>\n",
              "      <td>...</td>\n",
              "      <td>...</td>\n",
              "    </tr>\n",
              "    <tr>\n",
              "      <th>564511</th>\n",
              "      <td>4/30/2014 23:22:00</td>\n",
              "      <td>40.7640</td>\n",
              "      <td>-73.9744</td>\n",
              "      <td>B02764</td>\n",
              "      <td>7</td>\n",
              "    </tr>\n",
              "    <tr>\n",
              "      <th>564512</th>\n",
              "      <td>4/30/2014 23:26:00</td>\n",
              "      <td>40.7629</td>\n",
              "      <td>-73.9672</td>\n",
              "      <td>B02764</td>\n",
              "      <td>7</td>\n",
              "    </tr>\n",
              "    <tr>\n",
              "      <th>564513</th>\n",
              "      <td>4/30/2014 23:31:00</td>\n",
              "      <td>40.7443</td>\n",
              "      <td>-73.9889</td>\n",
              "      <td>B02764</td>\n",
              "      <td>0</td>\n",
              "    </tr>\n",
              "    <tr>\n",
              "      <th>564514</th>\n",
              "      <td>4/30/2014 23:32:00</td>\n",
              "      <td>40.6756</td>\n",
              "      <td>-73.9405</td>\n",
              "      <td>B02764</td>\n",
              "      <td>10</td>\n",
              "    </tr>\n",
              "    <tr>\n",
              "      <th>564515</th>\n",
              "      <td>4/30/2014 23:48:00</td>\n",
              "      <td>40.6880</td>\n",
              "      <td>-73.9608</td>\n",
              "      <td>B02764</td>\n",
              "      <td>10</td>\n",
              "    </tr>\n",
              "  </tbody>\n",
              "</table>\n",
              "<p>564516 rows × 5 columns</p>\n",
              "</div>"
            ],
            "text/plain": [
              "                 Date_Time      Lat      Lon    Base  prediction\n",
              "0         4/1/2014 0:11:00  40.7690 -73.9549  B02512           2\n",
              "1         4/1/2014 0:17:00  40.7267 -74.0345  B02512           9\n",
              "2         4/1/2014 0:21:00  40.7316 -73.9873  B02512           0\n",
              "3         4/1/2014 0:28:00  40.7588 -73.9776  B02512           7\n",
              "4         4/1/2014 0:33:00  40.7594 -73.9722  B02512           7\n",
              "...                    ...      ...      ...     ...         ...\n",
              "564511  4/30/2014 23:22:00  40.7640 -73.9744  B02764           7\n",
              "564512  4/30/2014 23:26:00  40.7629 -73.9672  B02764           7\n",
              "564513  4/30/2014 23:31:00  40.7443 -73.9889  B02764           0\n",
              "564514  4/30/2014 23:32:00  40.6756 -73.9405  B02764          10\n",
              "564515  4/30/2014 23:48:00  40.6880 -73.9608  B02764          10\n",
              "\n",
              "[564516 rows x 5 columns]"
            ]
          },
          "metadata": {
            "tags": []
          },
          "execution_count": 43
        }
      ]
    },
    {
      "cell_type": "markdown",
      "metadata": {
        "id": "qQgDM7T9PoRP"
      },
      "source": [
        "### Print Cluster Center and Size"
      ]
    },
    {
      "cell_type": "code",
      "metadata": {
        "id": "BMoDFrgzPoRP",
        "outputId": "4024878f-fd2d-4ca0-b1e0-3237524929c2",
        "colab": {
          "base_uri": "https://localhost:8080/"
        }
      },
      "source": [
        "cluster_count = uber_pickups_clean.groupby(\"prediction\").size()\n",
        "cluster_count"
      ],
      "execution_count": 44,
      "outputs": [
        {
          "output_type": "execute_result",
          "data": {
            "text/plain": [
              "prediction\n",
              "0     142365\n",
              "1      13142\n",
              "2      63717\n",
              "3       4820\n",
              "4      29326\n",
              "5      14604\n",
              "6        683\n",
              "7     148949\n",
              "8        780\n",
              "9     112035\n",
              "10     28999\n",
              "11      5096\n",
              "dtype: int64"
            ]
          },
          "metadata": {
            "tags": []
          },
          "execution_count": 44
        }
      ]
    },
    {
      "cell_type": "code",
      "metadata": {
        "id": "wd0Bk5HyPoRP",
        "outputId": "901534cd-6fa8-4ac6-c833-170cd05a8e4b",
        "colab": {
          "base_uri": "https://localhost:8080/"
        }
      },
      "source": [
        "cluster_count.sort_values(ascending=False)"
      ],
      "execution_count": 45,
      "outputs": [
        {
          "output_type": "execute_result",
          "data": {
            "text/plain": [
              "prediction\n",
              "7     148949\n",
              "0     142365\n",
              "9     112035\n",
              "2      63717\n",
              "4      29326\n",
              "10     28999\n",
              "5      14604\n",
              "1      13142\n",
              "11      5096\n",
              "3       4820\n",
              "8        780\n",
              "6        683\n",
              "dtype: int64"
            ]
          },
          "metadata": {
            "tags": []
          },
          "execution_count": 45
        }
      ]
    },
    {
      "cell_type": "markdown",
      "metadata": {
        "id": "-k_fHevEPoRP"
      },
      "source": [
        "## Step 8 : Ploting time!\n",
        "We are going to plot the results now.  \n",
        "Since we are dealing with GEO co-ordinates, let's use Google Maps!  \n",
        "\n",
        "Go to the following URL :  \n",
        "[https://jsfiddle.net/sujee/omypetfu/](https://jsfiddle.net/sujee/omypetfu/)\n",
        "\n",
        "- Run the code cell below\n",
        "- copy paste the output into Javascript section of the JSFiddle Editor (lower left)\n",
        "- and click 'Run'  (top nav bar)\n",
        "- Click on 'tidy' (top nav bar)  to cleanup code\n",
        "\n",
        "See the following image \n",
        "\n",
        "<img src=\"https://github.com/vgudur/machine-learning-learning-path-labs/blob/patch-3/assets/images/kmeans_uber_trips_map.png?raw=1\" style=\"border: 5px solid grey ; max-width:100%;\" />\n",
        "\n",
        "You will be rewarded with a beautiful map of clusters on Google Maps\n",
        "\n",
        "<img src=\"https://github.com/vgudur/machine-learning-learning-path-labs/blob/patch-3/assets/images/Kmeans_uber_trips.png?raw=1\" style=\"border: 5px solid grey ; max-width:100%;\" />\n",
        "\n",
        "Optional\n",
        "- You can 'fork' the snippet and keep tweaking"
      ]
    },
    {
      "cell_type": "code",
      "metadata": {
        "id": "Uq8OTsohPoRQ",
        "outputId": "61f8eb3b-c160-48c8-db3e-662a9528a686",
        "colab": {
          "base_uri": "https://localhost:8080/"
        }
      },
      "source": [
        "### generate Javascript\n",
        "s1 = \"var clusters = {\"\n",
        "\n",
        "s2 = \"\"\n",
        "\n",
        "prediction_count = uber_pickups_clean.groupby(\"prediction\").size()\n",
        "total_count = 0\n",
        "cluster_centers = model.cluster_centers_\n",
        "for i in range(0, num_clusters):\n",
        "    count = prediction_count[i]\n",
        "    lat = cluster_centers[i][0]\n",
        "    lng = cluster_centers[i][1]\n",
        "    total_count = total_count + count\n",
        "    if (i > 0):\n",
        "        s2 = s2 + \",\"\n",
        "    s2 = s2 + \" {}: {{ center: {{ lat: {}, lng: {} }}, count: {} }}\".\\\n",
        "        format(i, lat, lng, count)\n",
        "    #s2 = s2 + \"{}: {{  center: {{ }}, }}\".format(i)\n",
        "\n",
        "s3 = s1 + s2 + \"};\"\n",
        "\n",
        "s4 = \"\"\"\n",
        "function initMap() {\n",
        "  // Create the map.\n",
        "  var map = new google.maps.Map(document.getElementById('map'), {\n",
        "    zoom: 10,\n",
        "    center: {\n",
        "      lat: 40.77274573,\n",
        "      lng: -73.94\n",
        "    },\n",
        "    mapTypeId: 'roadmap'\n",
        "  });\n",
        "\n",
        "  // Construct the circle for each value in citymap.\n",
        "  // Note: We scale the area of the circle based on the population.\n",
        "  for (var cluster in clusters) {\n",
        "    // Add the circle for this city to the map.\n",
        "    var cityCircle = new google.maps.Circle({\n",
        "      strokeColor: '#FF0000',\n",
        "      strokeOpacity: 0.8,\n",
        "      strokeWeight: 2,\n",
        "      fillColor: '#FF0000',\n",
        "      fillOpacity: 0.35,\n",
        "      map: map,\n",
        "      center: clusters[cluster].center,\n",
        "\"\"\"\n",
        "\n",
        "s5 = \"radius: clusters[cluster].count / {} * 100 * 300 }});  }}}}\".format(total_count)\n",
        "\n",
        "# final\n",
        "s = s3 + s4 + s5\n",
        "\n",
        "print(s)"
      ],
      "execution_count": 46,
      "outputs": [
        {
          "output_type": "stream",
          "text": [
            "var clusters = { 0: { center: { lat: 40.73992246488873, lng: -73.99504767963336 }, count: 142365 }, 1: { center: { lat: 40.651495502967585, lng: -73.78398488814489 }, count: 13142 }, 2: { center: { lat: 40.77981984614177, lng: -73.95898791741895 }, count: 63717 }, 3: { center: { lat: 40.70117632780083, lng: -74.20242912863071 }, count: 4820 }, 4: { center: { lat: 40.671419379317385, lng: -73.97952571885527 }, count: 29326 }, 5: { center: { lat: 40.76566622158313, lng: -73.86709283073131 }, count: 14604 }, 6: { center: { lat: 41.043574377745244, lng: -73.65652781844803 }, count: 683 }, 7: { center: { lat: 40.7593889844632, lng: -73.97895853381539 }, count: 148949 }, 8: { center: { lat: 40.75300884615385, lng: -73.5847058974359 }, count: 780 }, 9: { center: { lat: 40.71907123441397, lng: -74.0028354168151 }, count: 112035 }, 10: { center: { lat: 40.70830562081117, lng: -73.9463459821737 }, count: 28999 }, 11: { center: { lat: 40.86390553924447, lng: -73.91382080642005 }, count: 5096 }};\n",
            "function initMap() {\n",
            "  // Create the map.\n",
            "  var map = new google.maps.Map(document.getElementById('map'), {\n",
            "    zoom: 10,\n",
            "    center: {\n",
            "      lat: 40.77274573,\n",
            "      lng: -73.94\n",
            "    },\n",
            "    mapTypeId: 'roadmap'\n",
            "  });\n",
            "\n",
            "  // Construct the circle for each value in citymap.\n",
            "  // Note: We scale the area of the circle based on the population.\n",
            "  for (var cluster in clusters) {\n",
            "    // Add the circle for this city to the map.\n",
            "    var cityCircle = new google.maps.Circle({\n",
            "      strokeColor: '#FF0000',\n",
            "      strokeOpacity: 0.8,\n",
            "      strokeWeight: 2,\n",
            "      fillColor: '#FF0000',\n",
            "      fillOpacity: 0.35,\n",
            "      map: map,\n",
            "      center: clusters[cluster].center,\n",
            "radius: clusters[cluster].count / 564516 * 100 * 300 });  }}\n"
          ],
          "name": "stdout"
        }
      ]
    },
    {
      "cell_type": "markdown",
      "metadata": {
        "id": "7IB4yJ05PoRQ"
      },
      "source": [
        "## Step 9: Let's analyze some more data\n",
        "\n",
        "- In Step-1 select the data_file to \n",
        "```\n",
        "data_file = \"../data/uber-nyc/uber-raw-data-apr14.csv.gz\"\n",
        "```\n",
        "- And select 'Cell --> Run All'  to execute all code blocks\n"
      ]
    },
    {
      "cell_type": "markdown",
      "metadata": {
        "id": "TlUHdNoWPoRQ"
      },
      "source": [
        "## Step 10 : Running the script\n",
        "\n",
        "**Use the download script**\n",
        "\n",
        "```bash\n",
        "cd   ~/data/uber-nyc\n",
        "./download-data.sh\n",
        "```\n",
        "\n",
        "This will download more data.\n",
        "\n",
        "As we run on larger dataset, the execution will take longer and Jupyter notebook might time out.  So let's run this in command line / script mode\n",
        "\n",
        "```bash\n",
        "\n",
        "$    cd   ~/ml-labs-python/clustering\n",
        "\n",
        "$    time  python  kmeans-uber.py 2> logs\n",
        "\n",
        "```\n",
        "\n",
        "Watch the output\n"
      ]
    }
  ]
}