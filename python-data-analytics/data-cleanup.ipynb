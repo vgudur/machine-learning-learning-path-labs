{
  "nbformat": 4,
  "nbformat_minor": 0,
  "metadata": {
    "kernelspec": {
      "display_name": "Python 3",
      "language": "python",
      "name": "python3"
    },
    "language_info": {
      "codemirror_mode": {
        "name": "ipython",
        "version": 3
      },
      "file_extension": ".py",
      "mimetype": "text/x-python",
      "name": "python",
      "nbconvert_exporter": "python",
      "pygments_lexer": "ipython3",
      "version": "3.8.2"
    },
    "colab": {
      "name": "data-cleanup.ipynb",
      "provenance": []
    }
  },
  "cells": [
    {
      "cell_type": "markdown",
      "metadata": {
        "id": "mKxGEoPU3XvF",
        "colab_type": "text"
      },
      "source": [
        "# Dealing with unclean data\n",
        "\n",
        "We're going to look at data that may require some cleansing."
      ]
    },
    {
      "cell_type": "code",
      "metadata": {
        "id": "Ay6MvVN93XvG",
        "colab_type": "code",
        "colab": {}
      },
      "source": [
        "import numpy as np\n",
        "import pandas as pd"
      ],
      "execution_count": null,
      "outputs": []
    },
    {
      "cell_type": "markdown",
      "metadata": {
        "id": "MslPEA5D3XvK",
        "colab_type": "text"
      },
      "source": [
        "## Read the admissions data that is not so clean"
      ]
    },
    {
      "cell_type": "code",
      "metadata": {
        "id": "wHQujoDu3XvL",
        "colab_type": "code",
        "colab": {}
      },
      "source": [
        "data_location  = 'https://elephantscale-public.s3.amazonaws.com/data/college-admissions/admission-data-dirty.csv'\n",
        "\n",
        "admissions = pd.read_csv(data_location)\n",
        "print(\"admissions size : \", admissions.size)\n",
        "admissions"
      ],
      "execution_count": null,
      "outputs": []
    },
    {
      "cell_type": "markdown",
      "metadata": {
        "id": "dc5OHbfN3XvN",
        "colab_type": "text"
      },
      "source": [
        "## Get Summary\n",
        "See what we get.  It will skip null values"
      ]
    },
    {
      "cell_type": "code",
      "metadata": {
        "id": "nY2gmu0_3XvO",
        "colab_type": "code",
        "colab": {}
      },
      "source": [
        "## TODO : use 'describe' functions \n",
        "admissions.describe()"
      ],
      "execution_count": null,
      "outputs": []
    },
    {
      "cell_type": "code",
      "metadata": {
        "id": "2q2zHWNF3XvQ",
        "colab_type": "code",
        "colab": {}
      },
      "source": [
        "## TODO : make describe include all columns\n",
        "admissions.describe(include = 'all')"
      ],
      "execution_count": null,
      "outputs": []
    },
    {
      "cell_type": "code",
      "metadata": {
        "id": "TM_aYzbv3XvT",
        "colab_type": "code",
        "colab": {}
      },
      "source": [
        "## TODO : Describe more than one column : gre and gpa\n",
        "## Hint : add 'gpa' column\n",
        "admissions[['gre', 'gpa']].describe()"
      ],
      "execution_count": null,
      "outputs": []
    },
    {
      "cell_type": "markdown",
      "metadata": {
        "id": "ZK1ZFiLl3XvV",
        "colab_type": "text"
      },
      "source": [
        "## Drop all null values"
      ]
    },
    {
      "cell_type": "code",
      "metadata": {
        "id": "tHvh-8YP3XvW",
        "colab_type": "code",
        "colab": {}
      },
      "source": [
        "print(\"raw data size : \", admissions.size)\n",
        "\n",
        "## TODO : use 'dropna' function\n",
        "dropped_na = admissions.dropna()\n",
        "print()\n",
        "print(\"after drop size : \", dropped_na.size)\n",
        "dropped_na\n"
      ],
      "execution_count": null,
      "outputs": []
    },
    {
      "cell_type": "code",
      "metadata": {
        "id": "jjp92ZOt3XvZ",
        "colab_type": "code",
        "colab": {}
      },
      "source": [
        "# only drop nulls from admit & gre column\n",
        "print(\"raw data size : \", admissions.size)\n",
        "\n",
        "print()\n",
        "\n",
        "dropped2 = admissions.dropna(subset=['admit', 'gre'])\n",
        "print(\"after drop size : \", dropped2.size)\n",
        "dropped2"
      ],
      "execution_count": null,
      "outputs": []
    },
    {
      "cell_type": "markdown",
      "metadata": {
        "id": "3x7Bqn9v3Xvd",
        "colab_type": "text"
      },
      "source": [
        "## Fill in the values"
      ]
    },
    {
      "cell_type": "code",
      "metadata": {
        "id": "-bHoVFCI3Xvd",
        "colab_type": "code",
        "colab": {}
      },
      "source": [
        "## TODO :  fill every thing with zero\n",
        "## Hint : use 'fillna'\n",
        "zero_fill = admissions.fillna(0)\n",
        "zero_fill"
      ],
      "execution_count": null,
      "outputs": []
    },
    {
      "cell_type": "code",
      "metadata": {
        "id": "Bipet8EQ3Xvf",
        "colab_type": "code",
        "colab": {}
      },
      "source": [
        "# or we can specify per column default value\n",
        "## TODO : specify different default values per column\n",
        "##        default value for gre = -100\n",
        "fill2 = admissions.fillna({'admit': -1, 'gre': -100, 'gpa':-1, 'rank':10})\n",
        "fill2"
      ],
      "execution_count": null,
      "outputs": []
    },
    {
      "cell_type": "markdown",
      "metadata": {
        "id": "s1XAzWAA3Xvh",
        "colab_type": "text"
      },
      "source": [
        "## Replace values"
      ]
    },
    {
      "cell_type": "code",
      "metadata": {
        "id": "9gti7F1q3Xvi",
        "colab_type": "code",
        "colab": {}
      },
      "source": [
        "print (admissions)\n",
        "\n",
        "admissions2 = admissions.copy(deep=True)\n",
        "\n",
        "## TODO : use replace to change 800 to 1000\n",
        "## Hint : replace (800, 1000)\n",
        "admissions2['gre'].replace(800, 1000, inplace=True)\n",
        "\n",
        "print()\n",
        "print (admissions2)"
      ],
      "execution_count": null,
      "outputs": []
    },
    {
      "cell_type": "markdown",
      "metadata": {
        "id": "0BVdphHE3Xvk",
        "colab_type": "text"
      },
      "source": [
        "## Clean out RANK column"
      ]
    },
    {
      "cell_type": "code",
      "metadata": {
        "id": "wavscjUC3Xvl",
        "colab_type": "code",
        "colab": {}
      },
      "source": [
        "## TODO : filter out any thing other than 1,2,3,4  in rank column\n",
        "a = admissions[admissions['rank'].isin(['1','2','3','4'])]\n",
        "a"
      ],
      "execution_count": null,
      "outputs": []
    },
    {
      "cell_type": "code",
      "metadata": {
        "id": "nGQ1E3R23Xvn",
        "colab_type": "code",
        "colab": {}
      },
      "source": [
        ""
      ],
      "execution_count": null,
      "outputs": []
    }
  ]
}