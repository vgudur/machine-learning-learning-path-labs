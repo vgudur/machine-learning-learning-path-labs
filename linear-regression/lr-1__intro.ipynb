{
 "cells": [
  {
   "cell_type": "code",
   "execution_count": 1,
   "metadata": {},
   "outputs": [
    {
     "name": "stderr",
     "output_type": "stream",
     "text": [
      "<frozen importlib._bootstrap>:219: RuntimeWarning: numpy.ufunc size changed, may indicate binary incompatibility. Expected 192 from C header, got 216 from PyObject\n"
     ]
    }
   ],
   "source": [
    "import pandas as pd\n",
    "import numpy as np\n"
   ]
  },
  {
   "cell_type": "code",
   "execution_count": 2,
   "metadata": {},
   "outputs": [
    {
     "name": "stdout",
     "output_type": "stream",
     "text": [
      "x : [[ 0.73322297]\n",
      " [-0.30753476]\n",
      " [ 2.24937375]\n",
      " [-0.5818829 ]\n",
      " [ 0.09202008]\n",
      " [-0.74267958]\n",
      " [-0.09868742]\n",
      " [-0.61202799]\n",
      " [-2.17719675]\n",
      " [ 0.29083317]]\n",
      "y : [  43.34584532  -15.20776377  116.20504009  -31.95333073    7.22572871\n",
      "  -48.57922288   -5.35739095  -33.02877261 -109.94411832   10.77454834]\n"
     ]
    },
    {
     "name": "stderr",
     "output_type": "stream",
     "text": [
      "<frozen importlib._bootstrap>:219: RuntimeWarning: numpy.ufunc size changed, may indicate binary incompatibility. Expected 192 from C header, got 216 from PyObject\n"
     ]
    }
   ],
   "source": [
    "import sklearn\n",
    "from sklearn.datasets import make_regression\n",
    "\n",
    "X,y = make_regression (n_samples=100, n_features=1, noise=5)\n",
    "\n",
    "print (\"x :\", X[:10])\n",
    "print (\"y :\", y[:10])",
    "print("test")"
   ]
  },
  {
   "cell_type": "code",
   "execution_count": 3,
   "metadata": {},
   "outputs": [
    {
     "data": {
      "image/png": "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\n",
      "text/plain": [
       "<Figure size 432x288 with 1 Axes>"
      ]
     },
     "metadata": {
      "needs_background": "light"
     },
     "output_type": "display_data"
    }
   ],
   "source": [
    "from matplotlib import pyplot\n",
    "\n",
    "pyplot.scatter(X,y)\n",
    "pyplot.show()"
   ]
  },
  {
   "cell_type": "markdown",
   "metadata": {},
   "source": [
    "## Do Regression"
   ]
  },
  {
   "cell_type": "code",
   "execution_count": 4,
   "metadata": {},
   "outputs": [
    {
     "name": "stderr",
     "output_type": "stream",
     "text": [
      "<frozen importlib._bootstrap>:219: RuntimeWarning: numpy.ufunc size changed, may indicate binary incompatibility. Expected 192 from C header, got 216 from PyObject\n"
     ]
    },
    {
     "data": {
      "text/plain": [
       "LinearRegression()"
      ]
     },
     "execution_count": 4,
     "metadata": {},
     "output_type": "execute_result"
    }
   ],
   "source": [
    "from sklearn.linear_model import LinearRegression\n",
    "\n",
    "lr = LinearRegression()\n",
    "lr.fit(X,y)\n"
   ]
  },
  {
   "cell_type": "code",
   "execution_count": 5,
   "metadata": {},
   "outputs": [
    {
     "name": "stdout",
     "output_type": "stream",
     "text": [
      "coefficients : [54.00058568]\n",
      "intercept:  -0.22414811300369342\n"
     ]
    }
   ],
   "source": [
    "print (\"coefficients :\", lr.coef_)\n",
    "print ('intercept: ', lr.intercept_)"
   ]
  },
  {
   "cell_type": "markdown",
   "metadata": {},
   "source": [
    "## Predictions"
   ]
  },
  {
   "cell_type": "code",
   "execution_count": 6,
   "metadata": {},
   "outputs": [
    {
     "name": "stdout",
     "output_type": "stream",
     "text": [
      "predictions :  [  39.37032148  -16.8312051   121.24335175  -31.64616527    4.74498991\n",
      "  -40.3292805    -5.55332671  -33.27401804 -117.79404789   15.48101318]\n"
     ]
    }
   ],
   "source": [
    "predictions = lr.predict(X)\n",
    "print ('predictions : ', predictions[:10])"
   ]
  },
  {
   "cell_type": "markdown",
   "metadata": {},
   "source": [
    "## Plot"
   ]
  },
  {
   "cell_type": "code",
   "execution_count": 7,
   "metadata": {},
   "outputs": [
    {
     "data": {
      "image/png": "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\n",
      "text/plain": [
       "<Figure size 432x288 with 1 Axes>"
      ]
     },
     "metadata": {
      "needs_background": "light"
     },
     "output_type": "display_data"
    }
   ],
   "source": [
    "from matplotlib import pyplot\n",
    "\n",
    "pyplot.scatter(X,y, color='blue')\n",
    "pyplot.plot(X, predictions, color='red')\n",
    "pyplot.show()"
   ]
  },
  {
   "cell_type": "markdown",
   "metadata": {},
   "source": [
    "## Calculate the errors\n",
    "We can calculate MSE, MAE and RMSE\n",
    "Here is an [example](https://towardsdatascience.com/linear-regression-in-python-9a1f5f000606)"
   ]
  },
  {
   "cell_type": "code",
   "execution_count": 11,
   "metadata": {},
   "outputs": [
    {
     "name": "stdout",
     "output_type": "stream",
     "text": [
      "MSE : 21.721383422348485\n",
      "RMSE : 4.660620497567731\n",
      "MAE : 3.7100552057860967\n"
     ]
    }
   ],
   "source": [
    "from sklearn.metrics import mean_absolute_error\n",
    "from sklearn.metrics import mean_squared_error\n",
    "import numpy as np\n",
    "\n",
    "mse = mean_squared_error(y, predictions)\n",
    "rmse = np.sqrt(mse)\n",
    "mae = mean_absolute_error(y, predictions)\n",
    "\n",
    "print ('MSE :', mse)\n",
    "print ('RMSE :', rmse)\n",
    "print ('MAE :', mae)"
   ]
  },
  {
   "cell_type": "code",
   "execution_count": null,
   "metadata": {},
   "outputs": [],
   "source": []
  }
 ],
 "metadata": {
  "kernelspec": {
   "display_name": "Python 3",
   "language": "python",
   "name": "python3"
  },
  "language_info": {
   "codemirror_mode": {
    "name": "ipython",
    "version": 3
   },
   "file_extension": ".py",
   "mimetype": "text/x-python",
   "name": "python",
   "nbconvert_exporter": "python",
   "pygments_lexer": "ipython3",
   "version": "3.8.2"
  }
 },
 "nbformat": 4,
 "nbformat_minor": 4
}
