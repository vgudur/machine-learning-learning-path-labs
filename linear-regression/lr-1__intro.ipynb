{
  "nbformat": 4,
  "nbformat_minor": 0,
  "metadata": {
    "kernelspec": {
      "display_name": "Python 3",
      "language": "python",
      "name": "python3"
    },
    "language_info": {
      "codemirror_mode": {
        "name": "ipython",
        "version": 3
      },
      "file_extension": ".py",
      "mimetype": "text/x-python",
      "name": "python",
      "nbconvert_exporter": "python",
      "pygments_lexer": "ipython3",
      "version": "3.8.2"
    },
    "colab": {
      "name": "Vijji_Gudur_lr-1__intro.ipynb",
      "provenance": [],
      "collapsed_sections": []
    }
  },
  "cells": [
    {
      "cell_type": "markdown",
      "metadata": {
        "id": "nZ7nNqxy2CZ8"
      },
      "source": [
        "## Predictions"
      ]
    },
    {
      "cell_type": "code",
      "metadata": {
        "id": "s4qnyAMj2CZp"
      },
      "source": [
        "import pandas as pd\n",
        "import numpy as np\n",
        "import matplotlib.pyplot as plt"
      ],
      "execution_count": null,
      "outputs": []
    },
    {
      "cell_type": "code",
      "metadata": {
        "id": "9lTdClHE2CZw",
        "outputId": "33e7b6de-2010-42f8-83fb-b3e87fc32264",
        "colab": {
          "base_uri": "https://localhost:8080/",
          "height": 221
        }
      },
      "source": [
        "import sklearn\n",
        "from sklearn.datasets import make_regression\n",
        "\n",
        "X,y = make_regression (n_samples=1000, n_features=1, noise=5)\n",
        "print (\"X :\", X[:10])\n",
        "print (\"y :\", y[:10])\n"
      ],
      "execution_count": null,
      "outputs": [
        {
          "output_type": "stream",
          "text": [
            "X : [[-0.85346912]\n",
            " [-0.41470039]\n",
            " [-0.32252852]\n",
            " [ 1.58763114]\n",
            " [-1.07731545]\n",
            " [-0.46706518]\n",
            " [ 0.58036669]\n",
            " [-0.22493895]\n",
            " [-0.66164792]\n",
            " [-0.60347613]]\n",
            "y : [-77.06864198 -28.55104706 -25.72568824 145.23187723 -95.85749965\n",
            " -40.14108967  50.33842336 -25.78732664 -54.74190096 -53.39650456]\n"
          ],
          "name": "stdout"
        }
      ]
    },
    {
      "cell_type": "code",
      "metadata": {
        "id": "7kYBpNAr2CZz",
        "outputId": "23441cf3-63aa-482b-8ef9-f1635b416c64",
        "colab": {
          "base_uri": "https://localhost:8080/",
          "height": 269
        }
      },
      "source": [
        "plt.scatter(X,y)\n",
        "plt.show()"
      ],
      "execution_count": null,
      "outputs": [
        {
          "output_type": "display_data",
          "data": {
            "image/png": "[encoded data removed]",
            "text/plain": [
              "<Figure size 432x288 with 1 Axes>"
            ]
          },
          "metadata": {
            "tags": [],
            "needs_background": "light"
          }
        }
      ]
    },
    {
      "cell_type": "markdown",
      "metadata": {
        "id": "ZPURwUYx2CZ2"
      },
      "source": [
        "## Do Regression"
      ]
    },
    {
      "cell_type": "code",
      "metadata": {
        "id": "4oyRSrM_2CZ3",
        "cellView": "both",
        "outputId": "8701e7ed-ae5d-4895-a7a6-b7a02d88a293",
        "colab": {
          "base_uri": "https://localhost:8080/",
          "height": 451
        }
      },
      "source": [
        "#@title Linear Regression { run: \"auto\", vertical-output: true }\n",
        "type = \"1\" #@param [\"1\", \"2\"] {allow-input: true}\n",
        "\n",
        "y_pred \n",
        "\n",
        "if ( type == \"1\"):\n",
        "  title  = \"Linear Regression results by sklearn\"\n",
        "  print (\"\\n\" + title+ \"\\n\")\n",
        "  from sklearn.linear_model import LinearRegression\n",
        "  lr = LinearRegression()\n",
        "  lr.fit(X,y)\n",
        "  print (\"coefficients or slope :\", lr.coef_ )\n",
        "  print ('intercept: ', lr.intercept_)\n",
        "  slope = lr.coef_\n",
        "  intercept = lr.intercept_\n",
        "\n",
        "  y_pred = lr.predict(X)\n",
        "  ##print ('\\npredictions : ', y_pred[:5])\n",
        "  ##The r2_score function computes the coefficient of determination, usually denoted as R².\n",
        "  from sklearn.metrics import r2_score\n",
        "  rsqure_coff = r2_score(y, y_pred)\n",
        "\n",
        "  print ( '\\nR^2( coefficient of determination ) :'  , rsqure_coff )\n",
        "  print(\"\\n\\n\")\n",
        "else:\n",
        "  title = \"Linear Regression results by scipy.stats\"\n",
        "  print (\"\\n\" + title+ \"\\n\")\n",
        "  from scipy import stats\n",
        "  t_x  = np.concatenate((X,y[:,None]),axis=1)\n",
        "  slope, intercept, r_value, p_value, std_err = stats.linregress(t_x)\n",
        "  print ( \"Slope :{}  \\nintercept:{}  \\nr_value: {}  \\np_value:{}  \\nstd_err:{}\".format(slope, intercept,r_value, p_value, std_err))\n",
        "  # make predictions\n",
        "  y_pred = intercept + slope*X\n",
        "  \n",
        "  # pearson correlation coefficient and p-value\n",
        "  pearson_coef, p_value = stats.pearsonr(t_x[0], t_x[1])\n",
        "  print(\"\\npearson_coef:{} \\np_value:{}\".format(pearson_coef, p_value) )\n",
        "\n",
        "  absError = y_pred - y\n",
        "  Rsquared =  abs(1.0 - (np.var(absError) / np.var(y)) )\n",
        "  print ( '\\nR^2( coefficient of determination ) :'  , Rsquared )\n",
        "  print(\"\\n\\n\")\n",
        "\n",
        "plt.plot(X, y, 'o', label='original data') \n",
        "plt.plot(X, y_pred,  label='predictions data', color ='red') \n",
        "plt.title ( title)\n",
        "plt.legend() \n",
        "plt.show()"
      ],
      "execution_count": null,
      "outputs": [
        {
          "output_type": "stream",
          "text": [
            "\n",
            "Linear Regression results by sklearn\n",
            "\n",
            "coefficients or slope : [88.04441533]\n",
            "intercept:  0.09374623003846683\n",
            "\n",
            "R^2( coefficient of determination ) : 0.9971287912218402\n",
            "\n",
            "\n",
            "\n"
          ],
          "name": "stdout"
        },
        {
          "output_type": "display_data",
          "data": {
            "image/png": "[encoded data removed]",
            "text/plain": [
              "<Figure size 432x288 with 1 Axes>"
            ]
          },
          "metadata": {
            "tags": [],
            "needs_background": "light"
          }
        }
      ]
    },
    {
      "cell_type": "code",
      "metadata": {
        "id": "LEHwS-oL2CaD",
        "outputId": "12fb70a2-349b-46f2-c65a-875c86e1ecc8",
        "colab": {
          "base_uri": "https://localhost:8080/",
          "height": 68
        }
      },
      "source": [
        "from sklearn.metrics import mean_absolute_error\n",
        "from sklearn.metrics import mean_squared_error\n",
        "import numpy as np\n",
        "\n",
        "mse = mean_squared_error(y, y_pred)\n",
        "rmse = np.sqrt(mse)\n",
        "mae = mean_absolute_error(y, y_pred)\n",
        "\n",
        "print ('MSE :', mse)\n",
        "print ('RMSE :', rmse)\n",
        "print ('MAE :', mae)"
      ],
      "execution_count": null,
      "outputs": [
        {
          "output_type": "stream",
          "text": [
            "MSE : 24.285800466721014\n",
            "RMSE : 4.928062546957071\n",
            "MAE : 3.9174950809170777\n"
          ],
          "name": "stdout"
        }
      ]
    },
    {
      "cell_type": "code",
      "metadata": {
        "id": "ETsRRVrb2CaG"
      },
      "source": [
        ""
      ],
      "execution_count": null,
      "outputs": []
    }
  ]
}
