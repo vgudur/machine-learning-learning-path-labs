{
 "cells": [
  {
   "cell_type": "markdown",
   "metadata": {},
   "source": [
    "# PCA-1 - Intro\n",
    "\n",
    "Dimension reduction of data"
   ]
  },
  {
   "cell_type": "markdown",
   "metadata": {},
   "source": [
    "## Step 1: Load the Data"
   ]
  },
  {
   "cell_type": "code",
   "execution_count": null,
   "metadata": {},
   "outputs": [],
   "source": [
    "import os\n",
    "import urllib.request\n",
    "\n",
    "data_location = \"../data/cars/mtcars_header.csv\"\n",
    "data_url = 'https://elephantscale-public.s3.amazonaws.com/data/cars/mtcars_header.csv'\n",
    "\n",
    "if not os.path.exists (data_location):\n",
    "    data_location = os.path.basename(data_location)\n",
    "    if not os.path.exists(data_location):\n",
    "        print(\"Downloading : \", data_url)\n",
    "        urllib.request.urlretrieve(data_url, data_location)\n",
    "print('data_location:', data_location)"
   ]
  },
  {
   "cell_type": "code",
   "execution_count": null,
   "metadata": {},
   "outputs": [],
   "source": [
    "import pandas as pd\n",
    "pd.options.display.float_format = '{:,.2f}'.format\n",
    "\n",
    "dataset = pd.read_csv(data_location)\n",
    "print ('dataset.shape : ', dataset.shape)\n",
    "dataset.sample(10)\n",
    "# dataset"
   ]
  },
  {
   "cell_type": "markdown",
   "metadata": {},
   "source": [
    "## Step 2 - Explore Data\n",
    "\n",
    "As we can see, this data has 12 columns.  We want to plot this data in 2D (X and Y axis).  So we need to reduce the dimensions to 2"
   ]
  },
  {
   "cell_type": "code",
   "execution_count": null,
   "metadata": {},
   "outputs": [],
   "source": [
    "dataset2 = dataset.drop(['model'], axis=1)\n",
    "dataset2"
   ]
  },
  {
   "cell_type": "markdown",
   "metadata": {},
   "source": [
    "## Step 3 - Scale Data\n",
    "\n",
    "We need to scale data before PCA\n",
    "\n",
    "There are 2 options\n",
    "1. Using Standard scaler\n",
    "2. Using built-in pandas functions"
   ]
  },
  {
   "cell_type": "code",
   "execution_count": null,
   "metadata": {},
   "outputs": [],
   "source": [
    "## Option -1 \n",
    "\n",
    "from sklearn.preprocessing import StandardScaler\n",
    "\n",
    "scaler = StandardScaler ()\n",
    "\n",
    "scaled = scaler.fit_transform(dataset2)\n",
    "scaled_data = pd.DataFrame(scaled, columns = dataset2.columns)\n",
    "scaled_data.head(10)"
   ]
  },
  {
   "cell_type": "code",
   "execution_count": null,
   "metadata": {},
   "outputs": [],
   "source": [
    "## Option 2 \n",
    "\n",
    "scaled_data = (dataset2 - dataset2.mean()) / dataset2.std()\n",
    "scaled_data.head(10)"
   ]
  },
  {
   "cell_type": "markdown",
   "metadata": {},
   "source": [
    "## Step 4 - PCA"
   ]
  },
  {
   "cell_type": "code",
   "execution_count": null,
   "metadata": {},
   "outputs": [],
   "source": [
    "from sklearn.decomposition import PCA\n",
    "\n",
    "# we are doing 2 PC\n",
    "pca = PCA(n_components = 2)\n",
    "pca_data = pca.fit_transform(scaled_data)\n",
    "pca_df = pd.DataFrame(pca_data, columns = ['pc1', 'pc2'])\n",
    "pca_df.head(10)"
   ]
  },
  {
   "cell_type": "markdown",
   "metadata": {},
   "source": [
    "## Step 5 - Plot\n",
    "\n",
    "Now let's plot the reduced data"
   ]
  },
  {
   "cell_type": "code",
   "execution_count": null,
   "metadata": {},
   "outputs": [],
   "source": [
    "import matplotlib.pyplot as plt\n",
    "\n",
    "plt.scatter(pca_df['pc1'], pca_df['pc2'], marker='o')\n",
    "plt.show()"
   ]
  },
  {
   "cell_type": "markdown",
   "metadata": {},
   "source": [
    "## Step 6 - Compare Correlation Matrices\n",
    "\n",
    "Now let's compare correlation matrix of original data and PCA data.\n",
    "\n",
    "TODO: Can you explain the difference?"
   ]
  },
  {
   "cell_type": "code",
   "execution_count": null,
   "metadata": {},
   "outputs": [],
   "source": [
    "# original data\n",
    "scaled_data.corr()"
   ]
  },
  {
   "cell_type": "code",
   "execution_count": null,
   "metadata": {},
   "outputs": [],
   "source": [
    "# pca\n",
    "pca_df.corr()"
   ]
  },
  {
   "cell_type": "markdown",
   "metadata": {},
   "source": [
    "## Step 7 - Understanding PCA\n",
    "\n",
    "[SKLearn PCA reference](https://scikit-learn.org/stable/modules/generated/sklearn.decomposition.PCA.html?highlight=pca#sklearn.decomposition.PCA)\n",
    "\n",
    "* `pca.components_`  : Principal axes in feature space, representing the directions of maximum variance in the data. The components are sorted by explained_variance_\n",
    "* `pca.explained_variance_ratio_` : Percentage of variance explained by each of the selected components.\n"
   ]
  },
  {
   "cell_type": "code",
   "execution_count": null,
   "metadata": {},
   "outputs": [],
   "source": [
    "print ('\\n number of columns in original data : ', scaled_data.shape[1])\n",
    "print ('\\n each pca component length : ',  len(pca.components_[0]))\n",
    "print ('\\n pca.components_ :\\n',  pca.components_)\n",
    "print ('\\n pca.explained_variance_ratio_ : ' , pca.explained_variance_ratio_)"
   ]
  },
  {
   "cell_type": "markdown",
   "metadata": {},
   "source": [
    "## Step 8 - Find 3 Principal Components "
   ]
  },
  {
   "cell_type": "code",
   "execution_count": null,
   "metadata": {},
   "outputs": [],
   "source": [
    "## TODO - you code goes here\n",
    "## Adjust your code from step-4"
   ]
  }
 ],
 "metadata": {
  "kernelspec": {
   "display_name": "Python 3",
   "language": "python",
   "name": "python3"
  },
  "language_info": {
   "codemirror_mode": {
    "name": "ipython",
    "version": 3
   },
   "file_extension": ".py",
   "mimetype": "text/x-python",
   "name": "python",
   "nbconvert_exporter": "python",
   "pygments_lexer": "ipython3",
   "version": "3.8.3"
  }
 },
 "nbformat": 4,
 "nbformat_minor": 4
}
